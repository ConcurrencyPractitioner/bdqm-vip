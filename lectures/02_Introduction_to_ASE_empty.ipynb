{
 "cells": [
  {
   "cell_type": "markdown",
   "metadata": {},
   "source": [
    "# Getting Started With ASE\n",
    "\n",
    "[The atomistic simulation environment](https://wiki.fysik.dtu.dk/ase/index.html) (ASE) is an extremely powerful tool for generating atomic structures and performing density functional theory calculations (DFT.) ASE allows you to manipulate atomic structures in a programitic way using the [ASE atoms object](https://wiki.fysik.dtu.dk/ase/ase/atoms.html). This is a `class` in python that can store the positions and identities of atoms in a structure and manipulate them in useful ways. This is pretty abstract, so here is an example of generating an atoms object:"
   ]
  },
  {
   "cell_type": "code",
   "execution_count": 1,
   "metadata": {},
   "outputs": [
    {
     "name": "stdout",
     "output_type": "stream",
     "text": [
      "Requirement already satisfied: ase in /home/bcomer3/anaconda3/envs/p4env/lib/python3.7/site-packages (3.18.0)\n",
      "Requirement already satisfied: matplotlib in /home/bcomer3/anaconda3/envs/p4env/lib/python3.7/site-packages (from ase) (2.2.4)\n",
      "Requirement already satisfied: numpy in /home/bcomer3/anaconda3/envs/p4env/lib/python3.7/site-packages (from ase) (1.16.4)\n",
      "Requirement already satisfied: scipy in /home/bcomer3/anaconda3/envs/p4env/lib/python3.7/site-packages (from ase) (1.3.1)\n",
      "Requirement already satisfied: flask in /home/bcomer3/anaconda3/envs/p4env/lib/python3.7/site-packages (from ase) (1.0.2)\n",
      "Requirement already satisfied: pytz in /home/bcomer3/anaconda3/envs/p4env/lib/python3.7/site-packages/pytz-2019.1-py3.7.egg (from matplotlib->ase) (2019.1)\n",
      "Requirement already satisfied: cycler>=0.10 in /home/bcomer3/anaconda3/envs/p4env/lib/python3.7/site-packages (from matplotlib->ase) (0.10.0)\n",
      "Requirement already satisfied: kiwisolver>=1.0.1 in /home/bcomer3/anaconda3/envs/p4env/lib/python3.7/site-packages (from matplotlib->ase) (1.1.0)\n",
      "Requirement already satisfied: six>=1.10 in /home/bcomer3/anaconda3/envs/p4env/lib/python3.7/site-packages (from matplotlib->ase) (1.12.0)\n",
      "Requirement already satisfied: pyparsing!=2.0.4,!=2.1.2,!=2.1.6,>=2.0.1 in /home/bcomer3/anaconda3/envs/p4env/lib/python3.7/site-packages (from matplotlib->ase) (2.4.2)\n",
      "Requirement already satisfied: python-dateutil>=2.1 in /home/bcomer3/anaconda3/envs/p4env/lib/python3.7/site-packages (from matplotlib->ase) (2.8.0)\n",
      "Requirement already satisfied: click>=5.1 in /home/bcomer3/anaconda3/envs/p4env/lib/python3.7/site-packages (from flask->ase) (7.0)\n",
      "Requirement already satisfied: itsdangerous>=0.24 in /home/bcomer3/anaconda3/envs/p4env/lib/python3.7/site-packages (from flask->ase) (1.1.0)\n",
      "Requirement already satisfied: Werkzeug>=0.14 in /home/bcomer3/anaconda3/envs/p4env/lib/python3.7/site-packages (from flask->ase) (0.15.5)\n",
      "Requirement already satisfied: Jinja2>=2.10 in /home/bcomer3/anaconda3/envs/p4env/lib/python3.7/site-packages (from flask->ase) (2.10.1)\n",
      "Requirement already satisfied: setuptools in /home/bcomer3/anaconda3/envs/p4env/lib/python3.7/site-packages (from kiwisolver>=1.0.1->matplotlib->ase) (41.2.0)\n",
      "Requirement already satisfied: MarkupSafe>=0.23 in /home/bcomer3/anaconda3/envs/p4env/lib/python3.7/site-packages (from Jinja2>=2.10->flask->ase) (1.1.1)\n",
      "Requirement already satisfied: nglview in /home/bcomer3/anaconda3/lib/python3.7/site-packages (2.7.1)\n",
      "Requirement already satisfied: numpy in /home/bcomer3/anaconda3/envs/p4env/lib/python3.7/site-packages (from nglview) (1.16.4)\n",
      "Requirement already satisfied: ipywidgets>=7 in /home/bcomer3/anaconda3/lib/python3.7/site-packages (from nglview) (7.4.2)\n",
      "Requirement already satisfied: traitlets>=4.3.1 in /home/bcomer3/anaconda3/lib/python3.7/site-packages (from ipywidgets>=7->nglview) (4.3.2)\n",
      "Requirement already satisfied: ipykernel>=4.5.1 in /home/bcomer3/anaconda3/lib/python3.7/site-packages (from ipywidgets>=7->nglview) (5.1.0)\n",
      "Requirement already satisfied: nbformat>=4.2.0 in /home/bcomer3/anaconda3/lib/python3.7/site-packages (from ipywidgets>=7->nglview) (4.4.0)\n",
      "Requirement already satisfied: ipython>=4.0.0; python_version >= \"3.3\" in /home/bcomer3/anaconda3/lib/python3.7/site-packages (from ipywidgets>=7->nglview) (7.4.0)\n",
      "Requirement already satisfied: widgetsnbextension~=3.4.0 in /home/bcomer3/anaconda3/lib/python3.7/site-packages (from ipywidgets>=7->nglview) (3.4.2)\n",
      "Requirement already satisfied: six in /home/bcomer3/anaconda3/envs/p4env/lib/python3.7/site-packages (from traitlets>=4.3.1->ipywidgets>=7->nglview) (1.12.0)\n",
      "Requirement already satisfied: ipython-genutils in /home/bcomer3/anaconda3/lib/python3.7/site-packages (from traitlets>=4.3.1->ipywidgets>=7->nglview) (0.2.0)\n",
      "Requirement already satisfied: decorator in /home/bcomer3/anaconda3/envs/p4env/lib/python3.7/site-packages (from traitlets>=4.3.1->ipywidgets>=7->nglview) (4.4.0)\n",
      "Requirement already satisfied: tornado>=4.2 in /home/bcomer3/anaconda3/envs/p4env/lib/python3.7/site-packages (from ipykernel>=4.5.1->ipywidgets>=7->nglview) (6.0.3)\n",
      "Requirement already satisfied: jupyter-client in /home/bcomer3/anaconda3/lib/python3.7/site-packages (from ipykernel>=4.5.1->ipywidgets>=7->nglview) (5.2.4)\n",
      "Requirement already satisfied: jsonschema!=2.5.0,>=2.4 in /home/bcomer3/anaconda3/lib/python3.7/site-packages (from nbformat>=4.2.0->ipywidgets>=7->nglview) (3.0.1)\n",
      "Requirement already satisfied: jupyter-core in /home/bcomer3/anaconda3/lib/python3.7/site-packages (from nbformat>=4.2.0->ipywidgets>=7->nglview) (4.4.0)\n",
      "Requirement already satisfied: prompt-toolkit<2.1.0,>=2.0.0 in /home/bcomer3/anaconda3/lib/python3.7/site-packages (from ipython>=4.0.0; python_version >= \"3.3\"->ipywidgets>=7->nglview) (2.0.9)\n",
      "Requirement already satisfied: setuptools>=18.5 in /home/bcomer3/anaconda3/envs/p4env/lib/python3.7/site-packages (from ipython>=4.0.0; python_version >= \"3.3\"->ipywidgets>=7->nglview) (41.2.0)\n",
      "Requirement already satisfied: pygments in /home/bcomer3/anaconda3/envs/p4env/lib/python3.7/site-packages (from ipython>=4.0.0; python_version >= \"3.3\"->ipywidgets>=7->nglview) (2.4.2)\n",
      "Requirement already satisfied: backcall in /home/bcomer3/anaconda3/lib/python3.7/site-packages (from ipython>=4.0.0; python_version >= \"3.3\"->ipywidgets>=7->nglview) (0.1.0)\n",
      "Requirement already satisfied: jedi>=0.10 in /home/bcomer3/anaconda3/lib/python3.7/site-packages (from ipython>=4.0.0; python_version >= \"3.3\"->ipywidgets>=7->nglview) (0.13.3)\n",
      "Requirement already satisfied: pickleshare in /home/bcomer3/anaconda3/lib/python3.7/site-packages (from ipython>=4.0.0; python_version >= \"3.3\"->ipywidgets>=7->nglview) (0.7.5)\n",
      "Requirement already satisfied: pexpect; sys_platform != \"win32\" in /home/bcomer3/anaconda3/envs/p4env/lib/python3.7/site-packages (from ipython>=4.0.0; python_version >= \"3.3\"->ipywidgets>=7->nglview) (4.7.0)\n",
      "Requirement already satisfied: notebook>=4.4.1 in /home/bcomer3/anaconda3/lib/python3.7/site-packages (from widgetsnbextension~=3.4.0->ipywidgets>=7->nglview) (5.7.8)\n",
      "Requirement already satisfied: python-dateutil>=2.1 in /home/bcomer3/anaconda3/envs/p4env/lib/python3.7/site-packages (from jupyter-client->ipykernel>=4.5.1->ipywidgets>=7->nglview) (2.8.0)\n",
      "Requirement already satisfied: pyzmq>=13 in /home/bcomer3/anaconda3/envs/p4env/lib/python3.7/site-packages (from jupyter-client->ipykernel>=4.5.1->ipywidgets>=7->nglview) (18.0.1)\n",
      "Requirement already satisfied: attrs>=17.4.0 in /home/bcomer3/anaconda3/envs/p4env/lib/python3.7/site-packages (from jsonschema!=2.5.0,>=2.4->nbformat>=4.2.0->ipywidgets>=7->nglview) (19.1.0)\n",
      "Requirement already satisfied: pyrsistent>=0.14.0 in /home/bcomer3/anaconda3/lib/python3.7/site-packages (from jsonschema!=2.5.0,>=2.4->nbformat>=4.2.0->ipywidgets>=7->nglview) (0.14.11)\n",
      "Requirement already satisfied: wcwidth in /home/bcomer3/anaconda3/envs/p4env/lib/python3.7/site-packages (from prompt-toolkit<2.1.0,>=2.0.0->ipython>=4.0.0; python_version >= \"3.3\"->ipywidgets>=7->nglview) (0.1.7)\n",
      "Requirement already satisfied: parso>=0.3.0 in /home/bcomer3/anaconda3/lib/python3.7/site-packages (from jedi>=0.10->ipython>=4.0.0; python_version >= \"3.3\"->ipywidgets>=7->nglview) (0.3.4)\n",
      "Requirement already satisfied: ptyprocess>=0.5 in /home/bcomer3/anaconda3/envs/p4env/lib/python3.7/site-packages (from pexpect; sys_platform != \"win32\"->ipython>=4.0.0; python_version >= \"3.3\"->ipywidgets>=7->nglview) (0.6.0)\n",
      "Requirement already satisfied: prometheus-client in /home/bcomer3/anaconda3/lib/python3.7/site-packages (from notebook>=4.4.1->widgetsnbextension~=3.4.0->ipywidgets>=7->nglview) (0.6.0)\n",
      "Requirement already satisfied: nbconvert in /home/bcomer3/anaconda3/lib/python3.7/site-packages (from notebook>=4.4.1->widgetsnbextension~=3.4.0->ipywidgets>=7->nglview) (5.4.1)\n",
      "Requirement already satisfied: jinja2 in /home/bcomer3/anaconda3/envs/p4env/lib/python3.7/site-packages (from notebook>=4.4.1->widgetsnbextension~=3.4.0->ipywidgets>=7->nglview) (2.10.1)\n",
      "Requirement already satisfied: Send2Trash in /home/bcomer3/anaconda3/lib/python3.7/site-packages (from notebook>=4.4.1->widgetsnbextension~=3.4.0->ipywidgets>=7->nglview) (1.5.0)\n",
      "Requirement already satisfied: terminado>=0.8.1 in /home/bcomer3/anaconda3/lib/python3.7/site-packages (from notebook>=4.4.1->widgetsnbextension~=3.4.0->ipywidgets>=7->nglview) (0.8.1)\n",
      "Requirement already satisfied: mistune>=0.8.1 in /home/bcomer3/anaconda3/lib/python3.7/site-packages (from nbconvert->notebook>=4.4.1->widgetsnbextension~=3.4.0->ipywidgets>=7->nglview) (0.8.4)\n",
      "Requirement already satisfied: entrypoints>=0.2.2 in /home/bcomer3/anaconda3/lib/python3.7/site-packages (from nbconvert->notebook>=4.4.1->widgetsnbextension~=3.4.0->ipywidgets>=7->nglview) (0.3)\n",
      "Requirement already satisfied: bleach in /home/bcomer3/anaconda3/lib/python3.7/site-packages (from nbconvert->notebook>=4.4.1->widgetsnbextension~=3.4.0->ipywidgets>=7->nglview) (3.1.0)\n"
     ]
    },
    {
     "name": "stdout",
     "output_type": "stream",
     "text": [
      "Requirement already satisfied: pandocfilters>=1.4.1 in /home/bcomer3/anaconda3/lib/python3.7/site-packages (from nbconvert->notebook>=4.4.1->widgetsnbextension~=3.4.0->ipywidgets>=7->nglview) (1.4.2)\r\n",
      "Requirement already satisfied: testpath in /home/bcomer3/anaconda3/lib/python3.7/site-packages (from nbconvert->notebook>=4.4.1->widgetsnbextension~=3.4.0->ipywidgets>=7->nglview) (0.4.2)\r\n",
      "Requirement already satisfied: defusedxml in /home/bcomer3/anaconda3/lib/python3.7/site-packages (from nbconvert->notebook>=4.4.1->widgetsnbextension~=3.4.0->ipywidgets>=7->nglview) (0.5.0)\r\n",
      "Requirement already satisfied: MarkupSafe>=0.23 in /home/bcomer3/anaconda3/envs/p4env/lib/python3.7/site-packages (from jinja2->notebook>=4.4.1->widgetsnbextension~=3.4.0->ipywidgets>=7->nglview) (1.1.1)\r\n",
      "Requirement already satisfied: webencodings in /home/bcomer3/anaconda3/lib/python3.7/site-packages (from bleach->nbconvert->notebook>=4.4.1->widgetsnbextension~=3.4.0->ipywidgets>=7->nglview) (0.5.1)\r\n"
     ]
    }
   ],
   "source": [
    "!pip install ase\n",
    "!pip install nglview\n",
    "#!jupyter-nbextension enable nglview --py --sys-prefix  # this might be needed"
   ]
  },
  {
   "cell_type": "code",
   "execution_count": 2,
   "metadata": {},
   "outputs": [
    {
     "name": "stdout",
     "output_type": "stream",
     "text": [
      "Atoms(symbols='H2', pbc=False)\n"
     ]
    }
   ],
   "source": [
    "from ase.atoms import Atoms # import the Atoms class from ASE\n",
    "\n",
    "H2 = Atoms('HH', positions = [(0,0,0), (0,0,0.75)])\n",
    "print(H2)"
   ]
  },
  {
   "cell_type": "markdown",
   "metadata": {},
   "source": [
    "The code above just generates an H$_2$ molecule, one hydrogen at the origin and one 0.75 angstroms up in the z direction. We can now manipulate it in interesting ways. Let's say we want to add a second H$_2$ molecule 2 angstroms away. We can do this by simply adding atoms objects to the one we already have"
   ]
  },
  {
   "cell_type": "code",
   "execution_count": 3,
   "metadata": {},
   "outputs": [
    {
     "name": "stdout",
     "output_type": "stream",
     "text": [
      "Atoms(symbols='H4', pbc=False)\n",
      "[[0.   0.   0.  ]\n",
      " [0.   0.   0.75]\n",
      " [2.   0.   0.  ]\n",
      " [2.   0.   0.75]]\n"
     ]
    }
   ],
   "source": [
    "H2 = H2 + Atoms('H2', positions = [(2,0,0), (2,0,0.75)])\n",
    "print(H2)\n",
    "print(H2.positions)"
   ]
  },
  {
   "cell_type": "markdown",
   "metadata": {},
   "source": [
    "So now we have have two H$_2$ molecules, we can shift all the atoms by simply adding an array to their positions"
   ]
  },
  {
   "cell_type": "code",
   "execution_count": 4,
   "metadata": {},
   "outputs": [
    {
     "name": "stdout",
     "output_type": "stream",
     "text": [
      "[[0.   0.   1.  ]\n",
      " [0.   0.   1.75]\n",
      " [2.   0.   1.  ]\n",
      " [2.   0.   1.75]]\n"
     ]
    }
   ],
   "source": [
    "H2.positions = H2.positions + [0,0,1]\n",
    "print(H2.positions)"
   ]
  },
  {
   "cell_type": "markdown",
   "metadata": {},
   "source": [
    "What does this look like though? We can visualize any structure using ASE's built in visualization tools"
   ]
  },
  {
   "cell_type": "code",
   "execution_count": 5,
   "metadata": {},
   "outputs": [
    {
     "data": {
      "application/vnd.jupyter.widget-view+json": {
       "model_id": "7fddb796f1164b92818c2de2ff91e857",
       "version_major": 2,
       "version_minor": 0
      },
      "text/plain": [
       "_ColormakerRegistry()"
      ]
     },
     "metadata": {},
     "output_type": "display_data"
    },
    {
     "data": {
      "application/vnd.jupyter.widget-view+json": {
       "model_id": "4b93300b43a64becb7ac02a6289f303a",
       "version_major": 2,
       "version_minor": 0
      },
      "text/plain": [
       "HBox(children=(NGLWidget(), VBox(children=(Dropdown(description='Show', options=('All', 'H'), value='All'), Dr…"
      ]
     },
     "metadata": {},
     "output_type": "display_data"
    }
   ],
   "source": [
    "from ase.visualize import view\n",
    "\n",
    "view(H2, viewer='ngl')"
   ]
  },
  {
   "cell_type": "markdown",
   "metadata": {},
   "source": [
    "Atoms objects are also able to be indexed like lists. Each individual atom has an index and can be accessed in this way. When you call an index of an atoms object, you get an `Atom` object. This is just an object that represents a single atom. `Atoms` objects are simply a collection of `Atom` ojects"
   ]
  },
  {
   "cell_type": "code",
   "execution_count": 6,
   "metadata": {},
   "outputs": [
    {
     "name": "stdout",
     "output_type": "stream",
     "text": [
      "Atom('H', [0.0, 0.0, 1.0], index=0)\n",
      "[0. 0. 1.]\n",
      "H\n"
     ]
    }
   ],
   "source": [
    "print(H2[0])\n",
    "print(H2[0].position)\n",
    "print(H2[0].symbol)"
   ]
  },
  {
   "cell_type": "markdown",
   "metadata": {},
   "source": [
    "Since we're doing periodic DFT, we want to put these atoms into a unit cell (a simulation box) to do this we want to use the `set_cell` method. Let's use a 10 angstrom box. We also want to write this to a file. ASE atoms objects have a `write` method that allows you to write to [almost any file type you can imagine](https://wiki.fysik.dtu.dk/ase/ase/io/io.html) (including .png images)."
   ]
  },
  {
   "cell_type": "code",
   "execution_count": 7,
   "metadata": {},
   "outputs": [],
   "source": [
    "H2.set_cell([10,10,10])\n",
    "H2.center() # this centers it in the unit cell\n",
    "H2.write('2_hydrogens.xyz')\n",
    "\n",
    "from ase.io import read # for reading files\n",
    "\n",
    "H2_2 = read('2_hydrogens.xyz')"
   ]
  },
  {
   "cell_type": "markdown",
   "metadata": {},
   "source": [
    "There are lots of useful things you can do to manipulate atoms, they are all documentated in the [ASE atoms object documentation](https://wiki.fysik.dtu.dk/ase/ase/atoms.html).\n",
    "\n",
    "But having to have all the positions for the atoms in an atoms object is quite onerous. Luckily, there are [tools to build structures in ASE](https://wiki.fysik.dtu.dk/ase/ase/build/build.html). For example, there is a molecule function that holds the positions of lots of common molecules. Similarly, the `bulk` function contains tons of bulk structures for metals. We'll use this to generate surfaces a little later on"
   ]
  },
  {
   "cell_type": "code",
   "execution_count": 8,
   "metadata": {},
   "outputs": [
    {
     "name": "stdout",
     "output_type": "stream",
     "text": [
      "Atoms(symbols='OH2', pbc=False)\n",
      "[[ 0.        0.        0.119262]\n",
      " [ 0.        0.763239 -0.477047]\n",
      " [ 0.       -0.763239 -0.477047]]\n"
     ]
    },
    {
     "data": {
      "application/vnd.jupyter.widget-view+json": {
       "model_id": "73d492bca0f04c69b7ae948c3cfb482b",
       "version_major": 2,
       "version_minor": 0
      },
      "text/plain": [
       "HBox(children=(NGLWidget(), VBox(children=(Dropdown(description='Show', options=('All', 'Fe'), value='All'), D…"
      ]
     },
     "metadata": {},
     "output_type": "display_data"
    }
   ],
   "source": [
    "from ase.build import molecule, bulk\n",
    "\n",
    "water = molecule('H2O')\n",
    "print(water)\n",
    "print(water.positions)\n",
    "\n",
    "iron = bulk('Fe', cubic = True)\n",
    "view(iron, viewer='ngl')"
   ]
  },
  {
   "cell_type": "markdown",
   "metadata": {},
   "source": [
    "# ASE Calculators\n",
    "\n",
    "ASE has the ability to attach a \"calculator\" to an atoms object. At a fundamental level, these are just classes that will return energies and forces. That means if can be a DFT program, a quantum chemistry program, or even just a classical leonard jones potential There are [a ton](https://wiki.fysik.dtu.dk/ase/ase/calculators/calculators.html) of calculators implmented. Here we will just use a simple one, the [EMT](https://wiki.fysik.dtu.dk/ase/ase/calculators/emt.html) calculator.\n",
    "\n",
    "The `EMT` calculator is just a simple pair potential calculator for a few metals. In practice it is a toy calculator used for testing.\n",
    "\n",
    "You start by making an instance of your calculator, then using `set_calculator` to attach it to an atoms object. Once that is done you can call `get_potential_energy` and `get_forces` to calculate the energy and forces."
   ]
  },
  {
   "cell_type": "code",
   "execution_count": 9,
   "metadata": {},
   "outputs": [
    {
     "name": "stdout",
     "output_type": "stream",
     "text": [
      "2.619811483369738\n",
      "[[ 0.          0.          7.73836531]\n",
      " [ 0.          5.14779422 -3.86918266]\n",
      " [ 0.         -5.14779422 -3.86918266]]\n"
     ]
    }
   ],
   "source": [
    "from ase.calculators.emt import EMT\n",
    "\n",
    "calc = EMT()\n",
    "water.set_calculator(calc)\n",
    "energy = water.get_potential_energy()\n",
    "forces = water.get_forces()\n",
    "\n",
    "print(energy)\n",
    "print(forces)"
   ]
  },
  {
   "cell_type": "markdown",
   "metadata": {},
   "source": [
    "In our group we use quatum espresso, VASP, and Abinit to do DFT in general.\n",
    "\n",
    "A primary use of calculators is to perform structural optimizations. This allows us to find the \"lowest energy configuration\" of a given structure. ASE has [tools](https://wiki.fysik.dtu.dk/ase/ase/optimize.html) to do this. Below we're using the `BFGSLineSearch` optimization method"
   ]
  },
  {
   "cell_type": "code",
   "execution_count": 10,
   "metadata": {},
   "outputs": [
    {
     "name": "stdout",
     "output_type": "stream",
     "text": [
      "                Step[ FC]     Time          Energy          fmax\n",
      "*Force-consistent energies used in optimization.\n",
      "BFGSLineSearch:    0[  0] 17:00:58        2.619811*       7.7384\n",
      "BFGSLineSearch:    1[  2] 17:00:58        1.879326*       0.0443\n"
     ]
    },
    {
     "data": {
      "text/plain": [
       "True"
      ]
     },
     "execution_count": 10,
     "metadata": {},
     "output_type": "execute_result"
    }
   ],
   "source": [
    "from ase.optimize import BFGSLineSearch\n",
    "\n",
    "relax = BFGSLineSearch(atoms = water)\n",
    "relax.run(fmax = 0.05) # relax the structure until the maximum force is 0.05 eV/A"
   ]
  },
  {
   "cell_type": "code",
   "execution_count": 11,
   "metadata": {},
   "outputs": [
    {
     "data": {
      "application/vnd.jupyter.widget-view+json": {
       "model_id": "4e9676be1a0140f9a7bde726cca2c689",
       "version_major": 2,
       "version_minor": 0
      },
      "text/plain": [
       "HBox(children=(NGLWidget(), VBox(children=(Dropdown(description='Show', options=('All', 'O', 'H'), value='All'…"
      ]
     },
     "metadata": {},
     "output_type": "display_data"
    }
   ],
   "source": [
    "view(water, viewer='ngl')"
   ]
  },
  {
   "cell_type": "markdown",
   "metadata": {},
   "source": [
    "# Calculating Adsorption Energies\n",
    "\n",
    "Adsorption energies are the core of computational catalysis and surface science because they provide fundamental information about how a molecular intermediate interacts with a catalyst surface. Computational approaches are particularly valuable for adsorption energies because they are exceedingly difficult to measure experimentally. However, calculating adsorption energies also requires some effort. This section is meant to cover the basics of how to calculate an adsorption energy using DFT.\n",
    "\n",
    "The adsorption energy is defined as the energy difference between the combined system and the separate systems:\n",
    "\n",
    "$E_{ads} = E_{surf+ads} - E_{surf} - E_{gas}$\n",
    "\n",
    "where $E_{surf+ads}$ is the combined system, $E_{surf}$ is the energy of the surface, and $E_{gas}$ is the energy of the molecule in the gas-phase. "
   ]
  },
  {
   "cell_type": "markdown",
   "metadata": {},
   "source": [
    "We'll start by making a CO molecule"
   ]
  },
  {
   "cell_type": "code",
   "execution_count": 12,
   "metadata": {},
   "outputs": [],
   "source": [
    "from ase.build import molecule\n",
    "\n",
    "gas = molecule('CO')"
   ]
  },
  {
   "cell_type": "markdown",
   "metadata": {},
   "source": [
    "lets visualize it next."
   ]
  },
  {
   "cell_type": "code",
   "execution_count": 13,
   "metadata": {},
   "outputs": [
    {
     "data": {
      "application/vnd.jupyter.widget-view+json": {
       "model_id": "212b1feffe364d5e8f0aa03994d43eed",
       "version_major": 2,
       "version_minor": 0
      },
      "text/plain": [
       "HBox(children=(NGLWidget(), VBox(children=(Dropdown(description='Show', options=('All', 'O', 'C'), value='All'…"
      ]
     },
     "metadata": {},
     "output_type": "display_data"
    }
   ],
   "source": [
    "from ase.visualize import view\n",
    "\n",
    "view(gas, viewer='ngl')"
   ]
  },
  {
   "cell_type": "markdown",
   "metadata": {},
   "source": [
    "To calculate the energy of this molecule, we're going to use the EMT calculator."
   ]
  },
  {
   "cell_type": "code",
   "execution_count": 14,
   "metadata": {},
   "outputs": [],
   "source": [
    "from ase.calculators.emt import EMT\n",
    "\n",
    "gas.set_calculator(EMT())"
   ]
  },
  {
   "cell_type": "markdown",
   "metadata": {},
   "source": [
    "Next we need to optimize the structure, because chances are it's not in its lowest energy configuration"
   ]
  },
  {
   "cell_type": "code",
   "execution_count": 15,
   "metadata": {},
   "outputs": [
    {
     "name": "stdout",
     "output_type": "stream",
     "text": [
      "                Step[ FC]     Time          Energy          fmax\n",
      "*Force-consistent energies used in optimization.\n",
      "BFGSLineSearch:    0[  0] 17:00:58        0.786209*       2.3049\n",
      "BFGSLineSearch:    1[  2] 17:00:58        0.672187*       0.3302\n",
      "BFGSLineSearch:    2[  3] 17:00:58        0.670368*       0.0714\n",
      "BFGSLineSearch:    3[  4] 17:00:58        0.670282*       0.0016\n"
     ]
    }
   ],
   "source": [
    "from ase.optimize import QuasiNewton\n",
    "\n",
    "dyn = QuasiNewton(gas)\n",
    "dyn.run(fmax=0.05)\n",
    "\n",
    "\n",
    "E_gas = gas.get_potential_energy()"
   ]
  },
  {
   "cell_type": "markdown",
   "metadata": {},
   "source": [
    "next let's build and optimize the slab. ASE has some nice tools for doing this."
   ]
  },
  {
   "cell_type": "code",
   "execution_count": 16,
   "metadata": {},
   "outputs": [
    {
     "name": "stdout",
     "output_type": "stream",
     "text": [
      "                Step[ FC]     Time          Energy          fmax\n",
      "*Force-consistent energies used in optimization.\n",
      "BFGSLineSearch:    0[  0] 17:00:58        2.576181*       0.3811\n",
      "BFGSLineSearch:    1[  1] 17:00:58        2.506582*       0.2684\n",
      "BFGSLineSearch:    2[  2] 17:00:59        2.485247*       0.0649\n",
      "BFGSLineSearch:    3[  3] 17:00:59        2.480666*       0.0440\n"
     ]
    }
   ],
   "source": [
    "from ase.build import fcc111, add_adsorbate\n",
    "\n",
    "slab = fcc111('Pt', size = (2,2,4), vacuum = 10) # function for building 111 surfaces for fcc bulk struc\n",
    "\n",
    "\n",
    "slab.set_calculator(EMT())\n",
    "dyn = QuasiNewton(slab)\n",
    "dyn.run(fmax=0.05)\n",
    "\n",
    "E_slab = slab.get_potential_energy()"
   ]
  },
  {
   "cell_type": "code",
   "execution_count": 17,
   "metadata": {},
   "outputs": [
    {
     "data": {
      "application/vnd.jupyter.widget-view+json": {
       "model_id": "a0b37d8163dd4617b171e141bc13dbec",
       "version_major": 2,
       "version_minor": 0
      },
      "text/plain": [
       "HBox(children=(NGLWidget(), VBox(children=(Dropdown(description='Show', options=('All', 'Pt'), value='All'), D…"
      ]
     },
     "metadata": {},
     "output_type": "display_data"
    }
   ],
   "source": [
    "view(slab, viewer='ngl')"
   ]
  },
  {
   "cell_type": "markdown",
   "metadata": {},
   "source": [
    "Now we add the adsorpate and optimize That."
   ]
  },
  {
   "cell_type": "code",
   "execution_count": 22,
   "metadata": {},
   "outputs": [
    {
     "name": "stdout",
     "output_type": "stream",
     "text": [
      "                Step[ FC]     Time          Energy          fmax\n",
      "*Force-consistent energies used in optimization.\n",
      "BFGSLineSearch:    0[  0] 17:01:37       39.660019*      55.7187\n",
      "BFGSLineSearch:    1[  1] 17:01:37       26.126396*      26.3357\n",
      "BFGSLineSearch:    2[  2] 17:01:37       16.771833*      13.3545\n",
      "BFGSLineSearch:    3[  3] 17:01:37       13.839315*      15.6944\n",
      "BFGSLineSearch:    4[  4] 17:01:38       12.208646*      14.7715\n",
      "BFGSLineSearch:    5[  6] 17:01:38        8.991629*       6.9573\n",
      "BFGSLineSearch:    6[  7] 17:01:38        7.894238*       5.7533\n",
      "BFGSLineSearch:    7[  9] 17:01:39        5.975976*       1.5938\n",
      "BFGSLineSearch:    8[ 11] 17:01:39        4.999663*       1.5779\n",
      "BFGSLineSearch:    9[ 13] 17:01:39        4.222764*       1.5933\n",
      "BFGSLineSearch:   10[ 14] 17:01:39        4.027459*       1.5681\n",
      "BFGSLineSearch:   11[ 16] 17:01:40        3.810620*       0.7191\n",
      "BFGSLineSearch:   12[ 17] 17:01:40        3.748968*       0.4245\n",
      "BFGSLineSearch:   13[ 18] 17:01:40        3.727357*       0.2949\n",
      "BFGSLineSearch:   14[ 19] 17:01:40        3.724189*       0.2439\n",
      "BFGSLineSearch:   15[ 21] 17:01:41        3.722099*       0.2197\n",
      "BFGSLineSearch:   16[ 23] 17:01:41        3.720383*       0.2316\n",
      "BFGSLineSearch:   17[ 24] 17:01:41        3.719365*       0.2178\n",
      "BFGSLineSearch:   18[ 26] 17:01:41        3.717795*       0.2235\n",
      "BFGSLineSearch:   19[ 28] 17:01:42        3.715057*       0.1826\n",
      "BFGSLineSearch:   20[ 30] 17:01:42        3.712796*       0.1018\n",
      "BFGSLineSearch:   21[ 31] 17:01:42        3.712375*       0.0822\n",
      "BFGSLineSearch:   22[ 32] 17:01:42        3.712068*       0.0562\n",
      "BFGSLineSearch:   23[ 33] 17:01:43        3.711862*       0.0414\n"
     ]
    },
    {
     "data": {
      "application/vnd.jupyter.widget-view+json": {
       "model_id": "87a319bb400d49588b7ad7daae55e636",
       "version_major": 2,
       "version_minor": 0
      },
      "text/plain": [
       "HBox(children=(NGLWidget(), VBox(children=(Dropdown(description='Show', options=('All', 'O', 'C', 'Pt'), value…"
      ]
     },
     "metadata": {},
     "output_type": "display_data"
    }
   ],
   "source": [
    "add_adsorbate(slab, gas, 2.3,'hcp')\n",
    "\n",
    "\n",
    "slab.set_calculator(EMT())\n",
    "dyn = QuasiNewton(slab)\n",
    "dyn.run(fmax=0.05)\n",
    "\n",
    "E_slab_ads = slab.get_potential_energy()\n",
    "view(slab, viewer='ngl')"
   ]
  },
  {
   "cell_type": "code",
   "execution_count": 19,
   "metadata": {},
   "outputs": [
    {
     "data": {
      "application/vnd.jupyter.widget-view+json": {
       "model_id": "ef7ad192ca56437ebb41a67e8027edab",
       "version_major": 2,
       "version_minor": 0
      },
      "text/plain": [
       "HBox(children=(NGLWidget(), VBox(children=(Dropdown(description='Show', options=('All', 'O', 'C', 'Pt'), value…"
      ]
     },
     "metadata": {},
     "output_type": "display_data"
    }
   ],
   "source": [
    "view(slab, viewer='ngl')"
   ]
  },
  {
   "cell_type": "markdown",
   "metadata": {},
   "source": [
    "Now, finally, we have the energy of the gas, the slab, and the slab with the adsorbate. We can now calculate the adsorption energy."
   ]
  },
  {
   "cell_type": "code",
   "execution_count": 20,
   "metadata": {},
   "outputs": [
    {
     "name": "stdout",
     "output_type": "stream",
     "text": [
      "-0.5331615226207451\n"
     ]
    }
   ],
   "source": [
    "E_ads = E_slab_ads - E_slab - E_gas\n",
    "print(E_ads)"
   ]
  },
  {
   "cell_type": "code",
   "execution_count": null,
   "metadata": {},
   "outputs": [],
   "source": []
  }
 ],
 "metadata": {
  "kernelspec": {
   "display_name": "Python 3",
   "language": "python",
   "name": "python3"
  },
  "language_info": {
   "codemirror_mode": {
    "name": "ipython",
    "version": 3
   },
   "file_extension": ".py",
   "mimetype": "text/x-python",
   "name": "python",
   "nbconvert_exporter": "python",
   "pygments_lexer": "ipython3",
   "version": "3.7.3"
  }
 },
 "nbformat": 4,
 "nbformat_minor": 2
}
