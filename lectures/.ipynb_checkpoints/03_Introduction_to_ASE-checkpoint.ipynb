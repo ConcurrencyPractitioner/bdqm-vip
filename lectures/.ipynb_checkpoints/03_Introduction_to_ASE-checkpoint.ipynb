{
 "cells": [
  {
   "cell_type": "markdown",
   "metadata": {},
   "source": [
    "# Getting Started With ASE\n",
    "\n",
    "[The atomistic simulation environment](https://wiki.fysik.dtu.dk/ase/index.html) (ASE) is an extremely powerful tool for generating atomic structures and performing density functional theory calculations (DFT.) "
   ]
  },
  {
   "cell_type": "code",
   "execution_count": 5,
   "metadata": {},
   "outputs": [
    {
     "name": "stdout",
     "output_type": "stream",
     "text": [
      "Requirement already satisfied: ase in /home/bencomer/anaconda3/lib/python3.7/site-packages (3.18.0)\n",
      "Requirement already satisfied: numpy in /home/bencomer/anaconda3/lib/python3.7/site-packages (from ase) (1.16.4)\n",
      "Requirement already satisfied: flask in /home/bencomer/.local/lib/python3.7/site-packages/Flask-1.0.3-py3.7.egg (from ase) (1.0.3)\n",
      "Requirement already satisfied: scipy in /home/bencomer/anaconda3/lib/python3.7/site-packages (from ase) (1.3.0)\n",
      "Requirement already satisfied: matplotlib in /home/bencomer/.local/lib/python3.7/site-packages/matplotlib-2.2.4-py3.7-linux-x86_64.egg (from ase) (2.2.4)\n",
      "Requirement already satisfied: Jinja2>=2.10 in /home/bencomer/.local/lib/python3.7/site-packages/Jinja2-2.10.1-py3.7.egg (from flask->ase) (2.10.1)\n",
      "Requirement already satisfied: Werkzeug>=0.14 in /home/bencomer/anaconda3/lib/python3.7/site-packages (from flask->ase) (0.15.4)\n",
      "Requirement already satisfied: click>=5.1 in /home/bencomer/.local/lib/python3.7/site-packages/Click-7.0-py3.7.egg (from flask->ase) (7.0)\n",
      "Requirement already satisfied: itsdangerous>=0.24 in /home/bencomer/.local/lib/python3.7/site-packages/itsdangerous-1.1.0-py3.7.egg (from flask->ase) (1.1.0)\n",
      "Requirement already satisfied: cycler>=0.10 in /home/bencomer/.local/lib/python3.7/site-packages/cycler-0.10.0-py3.7.egg (from matplotlib->ase) (0.10.0)\n",
      "Requirement already satisfied: kiwisolver>=1.0.1 in /home/bencomer/.local/lib/python3.7/site-packages/kiwisolver-1.1.0-py3.7-linux-x86_64.egg (from matplotlib->ase) (1.1.0)\n",
      "Requirement already satisfied: pyparsing!=2.0.4,!=2.1.2,!=2.1.6,>=2.0.1 in /home/bencomer/.local/lib/python3.7/site-packages/pyparsing-2.4.0-py3.7.egg (from matplotlib->ase) (2.4.0)\n",
      "Requirement already satisfied: python-dateutil>=2.1 in /home/bencomer/.local/lib/python3.7/site-packages/python_dateutil-2.8.0-py3.7.egg (from matplotlib->ase) (2.8.0)\n",
      "Requirement already satisfied: pytz in /home/bencomer/.local/lib/python3.7/site-packages/pytz-2019.1-py3.7.egg (from matplotlib->ase) (2019.1)\n",
      "Requirement already satisfied: six>=1.10 in /home/bencomer/anaconda3/lib/python3.7/site-packages (from matplotlib->ase) (1.12.0)\n",
      "Requirement already satisfied: MarkupSafe>=0.23 in /home/bencomer/.local/lib/python3.7/site-packages/MarkupSafe-1.1.1-py3.7-linux-x86_64.egg (from Jinja2>=2.10->flask->ase) (1.1.1)\n",
      "Requirement already satisfied: setuptools in /home/bencomer/anaconda3/lib/python3.7/site-packages (from kiwisolver>=1.0.1->matplotlib->ase) (41.0.1)\n",
      "Collecting nglview\n",
      "\u001b[?25l  Downloading https://files.pythonhosted.org/packages/96/35/2ea05cd0d75acf115745aa99479aedd8836afdd777ab80dc7215a0864dc5/nglview-2.7.1.tar.gz (4.7MB)\n",
      "\u001b[K     |████████████████████████████████| 4.7MB 119kB/s eta 0:00:01\n",
      "\u001b[?25hRequirement already satisfied: ipywidgets>=7 in /home/bencomer/anaconda3/lib/python3.7/site-packages (from nglview) (7.5.0)\n",
      "Requirement already satisfied: numpy in /home/bencomer/anaconda3/lib/python3.7/site-packages (from nglview) (1.16.4)\n",
      "Requirement already satisfied: ipykernel>=4.5.1 in /home/bencomer/anaconda3/lib/python3.7/site-packages (from ipywidgets>=7->nglview) (5.1.1)\n",
      "Requirement already satisfied: ipython>=4.0.0; python_version >= \"3.3\" in /home/bencomer/anaconda3/lib/python3.7/site-packages (from ipywidgets>=7->nglview) (7.6.1)\n",
      "Requirement already satisfied: traitlets>=4.3.1 in /home/bencomer/anaconda3/lib/python3.7/site-packages (from ipywidgets>=7->nglview) (4.3.2)\n",
      "Requirement already satisfied: nbformat>=4.2.0 in /home/bencomer/anaconda3/lib/python3.7/site-packages (from ipywidgets>=7->nglview) (4.4.0)\n",
      "Requirement already satisfied: widgetsnbextension~=3.5.0 in /home/bencomer/anaconda3/lib/python3.7/site-packages (from ipywidgets>=7->nglview) (3.5.0)\n",
      "Requirement already satisfied: tornado>=4.2 in /home/bencomer/anaconda3/lib/python3.7/site-packages (from ipykernel>=4.5.1->ipywidgets>=7->nglview) (6.0.3)\n",
      "Requirement already satisfied: jupyter-client in /home/bencomer/anaconda3/lib/python3.7/site-packages (from ipykernel>=4.5.1->ipywidgets>=7->nglview) (5.3.1)\n",
      "Requirement already satisfied: pygments in /home/bencomer/anaconda3/lib/python3.7/site-packages (from ipython>=4.0.0; python_version >= \"3.3\"->ipywidgets>=7->nglview) (2.4.2)\n",
      "Requirement already satisfied: prompt-toolkit<2.1.0,>=2.0.0 in /home/bencomer/anaconda3/lib/python3.7/site-packages (from ipython>=4.0.0; python_version >= \"3.3\"->ipywidgets>=7->nglview) (2.0.9)\n",
      "Requirement already satisfied: jedi>=0.10 in /home/bencomer/anaconda3/lib/python3.7/site-packages (from ipython>=4.0.0; python_version >= \"3.3\"->ipywidgets>=7->nglview) (0.13.3)\n",
      "Requirement already satisfied: pexpect; sys_platform != \"win32\" in /home/bencomer/anaconda3/lib/python3.7/site-packages (from ipython>=4.0.0; python_version >= \"3.3\"->ipywidgets>=7->nglview) (4.7.0)\n",
      "Requirement already satisfied: backcall in /home/bencomer/anaconda3/lib/python3.7/site-packages (from ipython>=4.0.0; python_version >= \"3.3\"->ipywidgets>=7->nglview) (0.1.0)\n",
      "Requirement already satisfied: decorator in /home/bencomer/anaconda3/lib/python3.7/site-packages (from ipython>=4.0.0; python_version >= \"3.3\"->ipywidgets>=7->nglview) (4.4.0)\n",
      "Requirement already satisfied: setuptools>=18.5 in /home/bencomer/anaconda3/lib/python3.7/site-packages (from ipython>=4.0.0; python_version >= \"3.3\"->ipywidgets>=7->nglview) (41.0.1)\n",
      "Requirement already satisfied: pickleshare in /home/bencomer/anaconda3/lib/python3.7/site-packages (from ipython>=4.0.0; python_version >= \"3.3\"->ipywidgets>=7->nglview) (0.7.5)\n",
      "Requirement already satisfied: ipython-genutils in /home/bencomer/anaconda3/lib/python3.7/site-packages (from traitlets>=4.3.1->ipywidgets>=7->nglview) (0.2.0)\n",
      "Requirement already satisfied: six in /home/bencomer/anaconda3/lib/python3.7/site-packages (from traitlets>=4.3.1->ipywidgets>=7->nglview) (1.12.0)\n",
      "Requirement already satisfied: jsonschema!=2.5.0,>=2.4 in /home/bencomer/anaconda3/lib/python3.7/site-packages (from nbformat>=4.2.0->ipywidgets>=7->nglview) (3.0.1)\n",
      "Requirement already satisfied: jupyter-core in /home/bencomer/anaconda3/lib/python3.7/site-packages (from nbformat>=4.2.0->ipywidgets>=7->nglview) (4.5.0)\n",
      "Requirement already satisfied: notebook>=4.4.1 in /home/bencomer/anaconda3/lib/python3.7/site-packages (from widgetsnbextension~=3.5.0->ipywidgets>=7->nglview) (6.0.0)\n",
      "Requirement already satisfied: pyzmq>=13 in /home/bencomer/anaconda3/lib/python3.7/site-packages (from jupyter-client->ipykernel>=4.5.1->ipywidgets>=7->nglview) (18.0.0)\n",
      "Requirement already satisfied: python-dateutil>=2.1 in /home/bencomer/.local/lib/python3.7/site-packages/python_dateutil-2.8.0-py3.7.egg (from jupyter-client->ipykernel>=4.5.1->ipywidgets>=7->nglview) (2.8.0)\n",
      "Requirement already satisfied: wcwidth in /home/bencomer/anaconda3/lib/python3.7/site-packages (from prompt-toolkit<2.1.0,>=2.0.0->ipython>=4.0.0; python_version >= \"3.3\"->ipywidgets>=7->nglview) (0.1.7)\n",
      "Requirement already satisfied: parso>=0.3.0 in /home/bencomer/anaconda3/lib/python3.7/site-packages (from jedi>=0.10->ipython>=4.0.0; python_version >= \"3.3\"->ipywidgets>=7->nglview) (0.5.0)\n",
      "Requirement already satisfied: ptyprocess>=0.5 in /home/bencomer/anaconda3/lib/python3.7/site-packages (from pexpect; sys_platform != \"win32\"->ipython>=4.0.0; python_version >= \"3.3\"->ipywidgets>=7->nglview) (0.6.0)\n",
      "Requirement already satisfied: attrs>=17.4.0 in /home/bencomer/anaconda3/lib/python3.7/site-packages (from jsonschema!=2.5.0,>=2.4->nbformat>=4.2.0->ipywidgets>=7->nglview) (19.1.0)\n",
      "Requirement already satisfied: pyrsistent>=0.14.0 in /home/bencomer/anaconda3/lib/python3.7/site-packages (from jsonschema!=2.5.0,>=2.4->nbformat>=4.2.0->ipywidgets>=7->nglview) (0.14.11)\n",
      "Requirement already satisfied: jinja2 in /home/bencomer/.local/lib/python3.7/site-packages/Jinja2-2.10.1-py3.7.egg (from notebook>=4.4.1->widgetsnbextension~=3.5.0->ipywidgets>=7->nglview) (2.10.1)\n",
      "Requirement already satisfied: prometheus-client in /home/bencomer/anaconda3/lib/python3.7/site-packages (from notebook>=4.4.1->widgetsnbextension~=3.5.0->ipywidgets>=7->nglview) (0.7.1)\n",
      "Requirement already satisfied: Send2Trash in /home/bencomer/anaconda3/lib/python3.7/site-packages (from notebook>=4.4.1->widgetsnbextension~=3.5.0->ipywidgets>=7->nglview) (1.5.0)\n",
      "Requirement already satisfied: nbconvert in /home/bencomer/anaconda3/lib/python3.7/site-packages (from notebook>=4.4.1->widgetsnbextension~=3.5.0->ipywidgets>=7->nglview) (5.5.0)\n"
     ]
    },
    {
     "name": "stdout",
     "output_type": "stream",
     "text": [
      "Requirement already satisfied: terminado>=0.8.1 in /home/bencomer/anaconda3/lib/python3.7/site-packages (from notebook>=4.4.1->widgetsnbextension~=3.5.0->ipywidgets>=7->nglview) (0.8.2)\n",
      "Requirement already satisfied: MarkupSafe>=0.23 in /home/bencomer/.local/lib/python3.7/site-packages/MarkupSafe-1.1.1-py3.7-linux-x86_64.egg (from jinja2->notebook>=4.4.1->widgetsnbextension~=3.5.0->ipywidgets>=7->nglview) (1.1.1)\n",
      "Requirement already satisfied: entrypoints>=0.2.2 in /home/bencomer/anaconda3/lib/python3.7/site-packages (from nbconvert->notebook>=4.4.1->widgetsnbextension~=3.5.0->ipywidgets>=7->nglview) (0.3)\n",
      "Requirement already satisfied: pandocfilters>=1.4.1 in /home/bencomer/anaconda3/lib/python3.7/site-packages (from nbconvert->notebook>=4.4.1->widgetsnbextension~=3.5.0->ipywidgets>=7->nglview) (1.4.2)\n",
      "Requirement already satisfied: testpath in /home/bencomer/anaconda3/lib/python3.7/site-packages (from nbconvert->notebook>=4.4.1->widgetsnbextension~=3.5.0->ipywidgets>=7->nglview) (0.4.2)\n",
      "Requirement already satisfied: mistune>=0.8.1 in /home/bencomer/anaconda3/lib/python3.7/site-packages (from nbconvert->notebook>=4.4.1->widgetsnbextension~=3.5.0->ipywidgets>=7->nglview) (0.8.4)\n",
      "Requirement already satisfied: bleach in /home/bencomer/anaconda3/lib/python3.7/site-packages (from nbconvert->notebook>=4.4.1->widgetsnbextension~=3.5.0->ipywidgets>=7->nglview) (3.1.0)\n",
      "Requirement already satisfied: defusedxml in /home/bencomer/anaconda3/lib/python3.7/site-packages (from nbconvert->notebook>=4.4.1->widgetsnbextension~=3.5.0->ipywidgets>=7->nglview) (0.6.0)\n",
      "Requirement already satisfied: webencodings in /home/bencomer/anaconda3/lib/python3.7/site-packages (from bleach->nbconvert->notebook>=4.4.1->widgetsnbextension~=3.5.0->ipywidgets>=7->nglview) (0.5.1)\n",
      "Building wheels for collected packages: nglview\n",
      "  Building wheel for nglview (setup.py) ... \u001b[?25ldone\n",
      "\u001b[?25h  Stored in directory: /home/bencomer/.cache/pip/wheels/8c/da/f6/4566348a9f1575ebe4c37fe9aff0dd7adc33e6c587031ae77c\n",
      "Successfully built nglview\n",
      "Installing collected packages: nglview\n",
      "Successfully installed nglview-2.7.1\n",
      "Enabling notebook extension nglview-js-widgets/extension...\n",
      "      - Validating: \u001b[32mOK\u001b[0m\n"
     ]
    }
   ],
   "source": [
    "!pip install ase\n",
    "!pip install nglview\n",
    "!jupyter-nbextension enable nglview --py --sys-prefix  # this might be needed"
   ]
  },
  {
   "cell_type": "markdown",
   "metadata": {},
   "source": [
    "## The Atoms Object\n",
    "ASE allows you to manipulate atomic structures in a programitic way using the [ASE atoms object](https://wiki.fysik.dtu.dk/ase/ase/atoms.html). Atoms is a `class` in python that can store the positions and identities of atoms in a structure and manipulate them in useful ways. This is pretty abstract, so here is an example of generating an atoms object:"
   ]
  },
  {
   "cell_type": "code",
   "execution_count": 1,
   "metadata": {},
   "outputs": [
    {
     "name": "stdout",
     "output_type": "stream",
     "text": [
      "Atoms(symbols='H2', pbc=False)\n"
     ]
    }
   ],
   "source": [
    "from ase.atoms import Atoms # import the Atoms class from ASE\n",
    "\n",
    "H2 = Atoms(symbols='HH', positions=[(0,0,0), (0,0,0.75)])\n",
    "print(H2)"
   ]
  },
  {
   "cell_type": "markdown",
   "metadata": {},
   "source": [
    "The code above just generates an H$_2$ molecule, one hydrogen at the origin and one 0.75 angstroms up in the z direction. We can now manipulate it in many interesting ways. Let's say we want to add a second H$_2$ molecule 2 angstroms away. We can do this by simply adding atoms objects to the one we already have"
   ]
  },
  {
   "cell_type": "code",
   "execution_count": 2,
   "metadata": {},
   "outputs": [
    {
     "name": "stdout",
     "output_type": "stream",
     "text": [
      "Atoms(symbols='H4', pbc=False)\n",
      "[[0.   0.   0.  ]\n",
      " [0.   0.   0.75]\n",
      " [2.   0.   0.  ]\n",
      " [2.   0.   0.75]]\n"
     ]
    }
   ],
   "source": [
    "H2 = H2 + Atoms('H2', positions = [(2,0,0), (2,0,0.75)])\n",
    "print(H2)\n",
    "print(H2.positions)"
   ]
  },
  {
   "cell_type": "markdown",
   "metadata": {},
   "source": [
    "So now we have have two H$_2$ molecules, we can shift all the atoms by simply adding an array to their positions"
   ]
  },
  {
   "cell_type": "code",
   "execution_count": 3,
   "metadata": {},
   "outputs": [
    {
     "name": "stdout",
     "output_type": "stream",
     "text": [
      "[[0.   0.   1.  ]\n",
      " [0.   0.   1.75]\n",
      " [2.   0.   1.  ]\n",
      " [2.   0.   1.75]]\n"
     ]
    }
   ],
   "source": [
    "H2.positions = H2.positions + [0,0,1]\n",
    "print(H2.positions)"
   ]
  },
  {
   "cell_type": "markdown",
   "metadata": {},
   "source": [
    "What does this look like though? We can visualize any structure using ASE's built in visualization tools"
   ]
  },
  {
   "cell_type": "code",
   "execution_count": 5,
   "metadata": {},
   "outputs": [
    {
     "data": {
      "application/vnd.jupyter.widget-view+json": {
       "model_id": "7de6e166e5514236a8e8e5e40c116ae7",
       "version_major": 2,
       "version_minor": 0
      },
      "text/plain": [
       "HBox(children=(NGLWidget(), VBox(children=(Dropdown(description='Show', options=('All', 'H'), value='All'), Dr…"
      ]
     },
     "metadata": {},
     "output_type": "display_data"
    }
   ],
   "source": [
    "from ase.visualize import view\n",
    "\n",
    "view(H2, viewer='ngl') "
   ]
  },
  {
   "cell_type": "markdown",
   "metadata": {},
   "source": [
    "Atoms objects are also able to be indexed like lists. Each individual atom has an index and can be accessed in this way. When you call an index of an atoms object, you get an `Atom` object. This is just an object that represents a single atom. `Atoms` objects are simply a collection of `Atom` objects. "
   ]
  },
  {
   "cell_type": "code",
   "execution_count": 8,
   "metadata": {},
   "outputs": [
    {
     "name": "stdout",
     "output_type": "stream",
     "text": [
      "Atom('H', [0.0, 0.0, 1.0], index=0)\n",
      "[0. 0. 1.]\n",
      "H\n"
     ]
    }
   ],
   "source": [
    "print(H2[0])\n",
    "print(H2[0].position)\n",
    "print(H2[0].symbol)"
   ]
  },
  {
   "cell_type": "markdown",
   "metadata": {},
   "source": [
    "For many of our calculations, we will be doing periodic calculations, so we would want to put these atoms into a unit cell (a simulation box) to do this we want to use the `set_cell` method. Let's use a 10 angstrom box. We also want to write this to a file. ASE atoms objects have a `write` method that allows you to write to [almost any file type you can imagine](https://wiki.fysik.dtu.dk/ase/ase/io/io.html) (including .png images)."
   ]
  },
  {
   "cell_type": "code",
   "execution_count": 6,
   "metadata": {},
   "outputs": [
    {
     "name": "stdout",
     "output_type": "stream",
     "text": [
      "Cell([10.0, 10.0, 10.0])\n"
     ]
    }
   ],
   "source": [
    "H2.set_cell([10,10,10])\n",
    "H2.center() # this centers it in the unit cell\n",
    "print(H2.cell)"
   ]
  },
  {
   "cell_type": "code",
   "execution_count": 7,
   "metadata": {},
   "outputs": [],
   "source": [
    "view(H2)"
   ]
  },
  {
   "cell_type": "markdown",
   "metadata": {},
   "source": [
    "We can also write and read files using ASE"
   ]
  },
  {
   "cell_type": "code",
   "execution_count": 11,
   "metadata": {},
   "outputs": [],
   "source": [
    "H2.write('2_hydrogens.xyz')\n",
    "\n",
    "from ase.io import read # for reading files\n",
    "\n",
    "H2_2 = read('2_hydrogens.xyz')"
   ]
  },
  {
   "cell_type": "markdown",
   "metadata": {},
   "source": [
    "There are lots of useful things you can do to manipulate atoms, they are all documentated in the [ASE atoms object documentation](https://wiki.fysik.dtu.dk/ase/ase/atoms.html). There is a full list of get/set methofs that operate on all the atoms in the object at once. You can set unit cell, boundary conditions, scale the positions of atoms and peform a lot more interesting operations using ASE.\n",
    "\n",
    "To have all the positions for the atoms in an atoms object is quite onerous. Luckily, there are [tools to build structures in ASE](https://wiki.fysik.dtu.dk/ase/ase/build/build.html). For example, there is a molecule function that holds the positions of lots of common molecules. Similarly, the `bulk` function contains tons of bulk structures for metals. We'll use this to generate surfaces a little later on."
   ]
  },
  {
   "cell_type": "code",
   "execution_count": 8,
   "metadata": {},
   "outputs": [
    {
     "name": "stdout",
     "output_type": "stream",
     "text": [
      "Atoms(symbols='OH2', pbc=False)\n",
      "[[ 0.        0.        0.119262]\n",
      " [ 0.        0.763239 -0.477047]\n",
      " [ 0.       -0.763239 -0.477047]]\n"
     ]
    }
   ],
   "source": [
    "from ase.build import molecule, bulk\n",
    "#from ase.data.pubchem import pubchem_atoms_search\n",
    "\n",
    "water = molecule('H2O')\n",
    "print(water)\n",
    "print(water.positions)\n",
    "view(water)\n",
    "\n",
    "iron = bulk('Fe', cubic = True)\n",
    "view(iron)"
   ]
  },
  {
   "cell_type": "markdown",
   "metadata": {},
   "source": [
    "# ASE Calculators\n",
    "\n",
    "ASE has the ability to attach a \"calculator\" to an atoms object. At a fundamental level, these are just classes that will return energies and forces. That means it can be a DFT program, a quantum chemistry program, or even just a classical potential like \"Leonard-Jones\" There are [a ton](https://wiki.fysik.dtu.dk/ase/ase/calculators/calculators.html) of calculators implmented. Here we will just use a simple one, the [EMT](https://wiki.fysik.dtu.dk/ase/ase/calculators/emt.html) calculator.\n",
    "\n",
    "The `EMT` calculator is just a simple pair potential calculator for a few metals. In practice it is a toy calculator (simplest calculator) used for testing.\n",
    "\n",
    "You start by making an instance of your calculator, then using `set_calculator` to attach it to an atoms object. Once that is done you can call `get_potential_energy`, `get_forces`, `get_stress`and other methods to calculate the energy, forces, stresses and other related properties that can be obtained using a calculator."
   ]
  },
  {
   "cell_type": "markdown",
   "metadata": {},
   "source": [
    "<img src=\"6-12_potential.gif\">"
   ]
  },
  {
   "cell_type": "code",
   "execution_count": 9,
   "metadata": {},
   "outputs": [
    {
     "name": "stdout",
     "output_type": "stream",
     "text": [
      "2.619811483369738\n",
      "[[ 0.          0.          7.73836531]\n",
      " [ 0.          5.14779422 -3.86918266]\n",
      " [ 0.         -5.14779422 -3.86918266]]\n"
     ]
    }
   ],
   "source": [
    "from ase.calculators.emt import EMT\n",
    "\n",
    "calc = EMT()\n",
    "water.set_calculator(calc)\n",
    "energy = water.get_potential_energy()\n",
    "forces = water.get_forces()\n",
    "\n",
    "print(energy)\n",
    "print(forces)"
   ]
  },
  {
   "cell_type": "markdown",
   "metadata": {},
   "source": [
    "In our group we use quatum espresso, VASP, and Abinit to do DFT in general.\n",
    "\n",
    "A primary use of calculators is to perform structural optimizations where the atoms positions are relaxed. This allows us to find the \"lowest energy configuration\" of a given structure. ASE has [tools](https://wiki.fysik.dtu.dk/ase/ase/optimize.html) to do this. Below we're using the `BFGSLineSearch` optimization method"
   ]
  },
  {
   "cell_type": "code",
   "execution_count": 10,
   "metadata": {},
   "outputs": [
    {
     "name": "stdout",
     "output_type": "stream",
     "text": [
      "                Step[ FC]     Time          Energy          fmax\n",
      "*Force-consistent energies used in optimization.\n",
      "BFGSLineSearch:    0[  0] 00:10:27        2.619811*       7.7384\n",
      "BFGSLineSearch:    1[  2] 00:10:27        1.879326*       0.0443\n"
     ]
    },
    {
     "data": {
      "text/plain": [
       "True"
      ]
     },
     "execution_count": 10,
     "metadata": {},
     "output_type": "execute_result"
    }
   ],
   "source": [
    "from ase.optimize import BFGSLineSearch\n",
    "\n",
    "relax = BFGSLineSearch(atoms = water)\n",
    "relax.run(fmax = 0.05) # relax the structure until the maximum force is 0.05 eV/A"
   ]
  },
  {
   "cell_type": "code",
   "execution_count": 19,
   "metadata": {
    "scrolled": true
   },
   "outputs": [],
   "source": [
    "view(water)"
   ]
  },
  {
   "cell_type": "markdown",
   "metadata": {},
   "source": [
    "### Exercise:\n",
    "\n",
    "Use the EMT calculator to plot the potential energy as a function of distance between two H atoms."
   ]
  },
  {
   "cell_type": "code",
   "execution_count": 11,
   "metadata": {},
   "outputs": [
    {
     "data": {
      "text/plain": [
       "[<matplotlib.lines.Line2D at 0x7fe7e5e3dd50>]"
      ]
     },
     "execution_count": 11,
     "metadata": {},
     "output_type": "execute_result"
    },
    {
     "data": {
      "image/png": "[encoded data removed]",
      "text/plain": [
       "<Figure size 432x288 with 1 Axes>"
      ]
     },
     "metadata": {
      "needs_background": "light"
     },
     "output_type": "display_data"
    }
   ],
   "source": [
    "import numpy as np\n",
    "from matplotlib import pyplot as plt\n",
    "%matplotlib inline\n",
    "rs = np.linspace(0.4, 3, 50)\n",
    "engs = []\n",
    "## calculate energy as a function of r\n",
    "for r in rs:\n",
    "    atoms = molecule('H2')\n",
    "    atoms.set_distance(0,1,r)\n",
    "    atoms.set_calculator(EMT())\n",
    "    engs.append(atoms.get_potential_energy())\n",
    "    \n",
    "plt.plot(rs, engs)\n"
   ]
  },
  {
   "cell_type": "markdown",
   "metadata": {},
   "source": [
    "# Calculating Reaction Energies\n",
    "\n",
    "Reaction energies are the core of computational catalysis and surface science because they provide fundamental information about the energy for a chemical reaction. This section is meant to cover the basics of how to calculate a reaction energy using DFT.\n",
    "\n",
    "The adsorption energy is defined as the energy difference between the combined system and the separate systems:\n",
    "\n",
    "$E_{rxn} = \\Sigma E_{products} - \\Sigma E_{reactants}$\n",
    "\n",
    "here we're going to calculate the reaction energy of forming water for O$_2$ and H$_2$"
   ]
  },
  {
   "cell_type": "markdown",
   "metadata": {},
   "source": [
    "We'll start by making an O$_2$ molecule"
   ]
  },
  {
   "cell_type": "code",
   "execution_count": 28,
   "metadata": {},
   "outputs": [],
   "source": [
    "from ase.build import molecule\n",
    "\n",
    "O2 = molecule('O2')"
   ]
  },
  {
   "cell_type": "markdown",
   "metadata": {},
   "source": [
    "lets visualize it next."
   ]
  },
  {
   "cell_type": "code",
   "execution_count": 29,
   "metadata": {},
   "outputs": [],
   "source": [
    "from ase.visualize import view\n",
    "\n",
    "view(O2)"
   ]
  },
  {
   "cell_type": "markdown",
   "metadata": {},
   "source": [
    "To calculate the energy of this molecule, we're going to use the EMT calculator."
   ]
  },
  {
   "cell_type": "code",
   "execution_count": 30,
   "metadata": {},
   "outputs": [],
   "source": [
    "from ase.calculators.emt import EMT\n",
    "\n",
    "O2.set_calculator(EMT())"
   ]
  },
  {
   "cell_type": "markdown",
   "metadata": {},
   "source": [
    "Next we need to optimize the structure, because chances are it's not in its lowest energy configuration"
   ]
  },
  {
   "cell_type": "code",
   "execution_count": 31,
   "metadata": {},
   "outputs": [
    {
     "name": "stdout",
     "output_type": "stream",
     "text": [
      "                Step[ FC]     Time          Energy          fmax\n",
      "*Force-consistent energies used in optimization.\n",
      "BFGSLineSearch:    0[  0] 10:42:47        0.922681*       3.7034\n",
      "BFGSLineSearch:    1[  2] 10:42:47        0.629226*       0.5399\n",
      "BFGSLineSearch:    2[  3] 10:42:47        0.625298*       0.1946\n",
      "BFGSLineSearch:    3[  4] 10:42:47        0.624750*       0.0064\n"
     ]
    }
   ],
   "source": [
    "from ase.optimize import QuasiNewton\n",
    "\n",
    "dyn = QuasiNewton(O2)\n",
    "dyn.run(fmax=0.05)\n",
    "\n",
    "\n",
    "E_O2 = O2.get_potential_energy()"
   ]
  },
  {
   "cell_type": "markdown",
   "metadata": {},
   "source": [
    "next let's build and optimize H$_2$ and H$_2$O. ASE has some nice tools for doing this."
   ]
  },
  {
   "cell_type": "code",
   "execution_count": 32,
   "metadata": {},
   "outputs": [
    {
     "name": "stdout",
     "output_type": "stream",
     "text": [
      "                Step[ FC]     Time          Energy          fmax\n",
      "*Force-consistent energies used in optimization.\n",
      "BFGSLineSearch:    0[  0] 10:43:04        1.158863*       4.4619\n",
      "BFGSLineSearch:    1[  2] 10:43:04        1.076999*       1.0416\n",
      "BFGSLineSearch:    2[  3] 10:43:04        1.070713*       0.1746\n",
      "BFGSLineSearch:    3[  4] 10:43:04        1.070542*       0.0090\n"
     ]
    }
   ],
   "source": [
    "H2 = molecule('H2')\n",
    "\n",
    "\n",
    "H2.set_calculator(EMT())\n",
    "dyn = QuasiNewton(H2)\n",
    "dyn.run(fmax=0.05)\n",
    "\n",
    "E_H2 = H2.get_potential_energy()\n"
   ]
  },
  {
   "cell_type": "code",
   "execution_count": 33,
   "metadata": {},
   "outputs": [],
   "source": [
    "view(H2)"
   ]
  },
  {
   "cell_type": "markdown",
   "metadata": {},
   "source": [
    "Now we add the adsorpate and optimize That."
   ]
  },
  {
   "cell_type": "code",
   "execution_count": 34,
   "metadata": {},
   "outputs": [
    {
     "name": "stdout",
     "output_type": "stream",
     "text": [
      "                Step[ FC]     Time          Energy          fmax\n",
      "*Force-consistent energies used in optimization.\n",
      "BFGSLineSearch:    0[  0] 10:43:34        2.619811*       7.7384\n",
      "BFGSLineSearch:    1[  2] 10:43:34        1.879326*       0.0443\n"
     ]
    }
   ],
   "source": [
    "H2O = molecule('H2O')\n",
    "\n",
    "\n",
    "H2O.set_calculator(EMT())\n",
    "dyn = QuasiNewton(H2O)\n",
    "dyn.run(fmax=0.05)\n",
    "\n",
    "E_H2O = H2O.get_potential_energy()\n"
   ]
  },
  {
   "cell_type": "code",
   "execution_count": 35,
   "metadata": {},
   "outputs": [],
   "source": [
    "view(H2O)"
   ]
  },
  {
   "cell_type": "markdown",
   "metadata": {},
   "source": [
    "Now, finally, we have the energy of the gas, the slab, and the slab with the adsorbate. We can now calculate the adsorption energy."
   ]
  },
  {
   "cell_type": "code",
   "execution_count": 36,
   "metadata": {},
   "outputs": [
    {
     "name": "stdout",
     "output_type": "stream",
     "text": [
      "0.49640892802334635\n"
     ]
    }
   ],
   "source": [
    "E_rxn = E_H2O - E_H2 - 0.5*E_O2\n",
    "print(E_rxn) # answer is in eV"
   ]
  },
  {
   "cell_type": "markdown",
   "metadata": {},
   "source": [
    "Note that this is not very accurate! The real value is approximately -285.8261 kJ/mol. The reason is that we used the \"EMT\" calculator, which is not appropriate for the physics of molecules. However, it is very fast, so it allows us to see the principles behind how reaction energies can be computed. If we want accurate numbers, we need to use quantum mechanics, approximated through Density Functional Theory (DFT). This will be much more computationally expensive, and will require a supercomputer. You will learn more about this in future lessons."
   ]
  },
  {
   "cell_type": "code",
   "execution_count": 37,
   "metadata": {},
   "outputs": [
    {
     "name": "stdout",
     "output_type": "stream",
     "text": [
      "-2.962378751888467\n"
     ]
    }
   ],
   "source": [
    "from ase.units import kJ, mol\n",
    "true_value = -285.8261 * kJ / mol\n",
    "print(true_value)"
   ]
  },
  {
   "cell_type": "code",
   "execution_count": 38,
   "metadata": {},
   "outputs": [
    {
     "name": "stdout",
     "output_type": "stream",
     "text": [
      "-1.1675710533998713\n"
     ]
    }
   ],
   "source": [
    "error = (E_rxn-true_value)/true_value\n",
    "print(error)"
   ]
  },
  {
   "cell_type": "markdown",
   "metadata": {},
   "source": [
    "# List-Methods\n",
    "\n",
    "We can add, extend, append, delete atoms from an Atoms object by using number of available methods."
   ]
  },
  {
   "cell_type": "code",
   "execution_count": 13,
   "metadata": {},
   "outputs": [
    {
     "name": "stdout",
     "output_type": "stream",
     "text": [
      "Atoms(symbols='C2OH6', pbc=False)\n",
      "Atoms(symbols='C2O', pbc=False)\n"
     ]
    }
   ],
   "source": [
    "from ase.build import molecule\n",
    "atoms = molecule('CH3CH2OH')\n",
    "print(atoms)\n",
    "del atoms[[atom.index for atom in atoms if atom.symbol=='H']]\n",
    "print(atoms)"
   ]
  },
  {
   "cell_type": "code",
   "execution_count": 14,
   "metadata": {},
   "outputs": [
    {
     "name": "stdout",
     "output_type": "stream",
     "text": [
      "Help on class Atoms in module ase.atoms:\n",
      "\n",
      "class Atoms(builtins.object)\n",
      " |  Atoms(symbols=None, positions=None, numbers=None, tags=None, momenta=None, masses=None, magmoms=None, charges=None, scaled_positions=None, cell=None, pbc=None, celldisp=None, constraint=None, calculator=None, info=None, velocities=None)\n",
      " |  \n",
      " |  Atoms object.\n",
      " |  \n",
      " |  The Atoms object can represent an isolated molecule, or a\n",
      " |  periodically repeated structure.  It has a unit cell and\n",
      " |  there may be periodic boundary conditions along any of the three\n",
      " |  unit cell axes.\n",
      " |  Information about the atoms (atomic numbers and position) is\n",
      " |  stored in ndarrays.  Optionally, there can be information about\n",
      " |  tags, momenta, masses, magnetic moments and charges.\n",
      " |  \n",
      " |  In order to calculate energies, forces and stresses, a calculator\n",
      " |  object has to attached to the atoms object.\n",
      " |  \n",
      " |  Parameters:\n",
      " |  \n",
      " |  symbols: str (formula) or list of str\n",
      " |      Can be a string formula, a list of symbols or a list of\n",
      " |      Atom objects.  Examples: 'H2O', 'COPt12', ['H', 'H', 'O'],\n",
      " |      [Atom('Ne', (x, y, z)), ...].\n",
      " |  positions: list of xyz-positions\n",
      " |      Atomic positions.  Anything that can be converted to an\n",
      " |      ndarray of shape (n, 3) will do: [(x1,y1,z1), (x2,y2,z2),\n",
      " |      ...].\n",
      " |  scaled_positions: list of scaled-positions\n",
      " |      Like positions, but given in units of the unit cell.\n",
      " |      Can not be set at the same time as positions.\n",
      " |  numbers: list of int\n",
      " |      Atomic numbers (use only one of symbols/numbers).\n",
      " |  tags: list of int\n",
      " |      Special purpose tags.\n",
      " |  momenta: list of xyz-momenta\n",
      " |      Momenta for all atoms.\n",
      " |  masses: list of float\n",
      " |      Atomic masses in atomic units.\n",
      " |  magmoms: list of float or list of xyz-values\n",
      " |      Magnetic moments.  Can be either a single value for each atom\n",
      " |      for collinear calculations or three numbers for each atom for\n",
      " |      non-collinear calculations.\n",
      " |  charges: list of float\n",
      " |      Initial atomic charges.\n",
      " |  cell: 3x3 matrix or length 3 or 6 vector\n",
      " |      Unit cell vectors.  Can also be given as just three\n",
      " |      numbers for orthorhombic cells, or 6 numbers, where\n",
      " |      first three are lengths of unit cell vectors, and the\n",
      " |      other three are angles between them (in degrees), in following order:\n",
      " |      [len(a), len(b), len(c), angle(b,c), angle(a,c), angle(a,b)].\n",
      " |      First vector will lie in x-direction, second in xy-plane,\n",
      " |      and the third one in z-positive subspace.\n",
      " |      Default value: [0, 0, 0].\n",
      " |  celldisp: Vector\n",
      " |      Unit cell displacement vector. To visualize a displaced cell\n",
      " |      around the center of mass of a Systems of atoms. Default value\n",
      " |      = (0,0,0)\n",
      " |  pbc: one or three bool\n",
      " |      Periodic boundary conditions flags.  Examples: True,\n",
      " |      False, 0, 1, (1, 1, 0), (True, False, False).  Default\n",
      " |      value: False.\n",
      " |  constraint: constraint object(s)\n",
      " |      Used for applying one or more constraints during structure\n",
      " |      optimization.\n",
      " |  calculator: calculator object\n",
      " |      Used to attach a calculator for calculating energies and atomic\n",
      " |      forces.\n",
      " |  info: dict of key-value pairs\n",
      " |      Dictionary of key-value pairs with additional information\n",
      " |      about the system.  The following keys may be used by ase:\n",
      " |  \n",
      " |        - spacegroup: Spacegroup instance\n",
      " |        - unit_cell: 'conventional' | 'primitive' | int | 3 ints\n",
      " |        - adsorbate_info: Information about special adsorption sites\n",
      " |  \n",
      " |      Items in the info attribute survives copy and slicing and can\n",
      " |      be stored in and retrieved from trajectory files given that the\n",
      " |      key is a string, the value is JSON-compatible and, if the value is a\n",
      " |      user-defined object, its base class is importable.  One should\n",
      " |      not make any assumptions about the existence of keys.\n",
      " |  \n",
      " |  Examples:\n",
      " |  \n",
      " |  These three are equivalent:\n",
      " |  \n",
      " |  >>> d = 1.104  # N2 bondlength\n",
      " |  >>> a = Atoms('N2', [(0, 0, 0), (0, 0, d)])\n",
      " |  >>> a = Atoms(numbers=[7, 7], positions=[(0, 0, 0), (0, 0, d)])\n",
      " |  >>> a = Atoms([Atom('N', (0, 0, 0)), Atom('N', (0, 0, d))])\n",
      " |  \n",
      " |  FCC gold:\n",
      " |  \n",
      " |  >>> a = 4.05  # Gold lattice constant\n",
      " |  >>> b = a / 2\n",
      " |  >>> fcc = Atoms('Au',\n",
      " |  ...             cell=[(0, b, b), (b, 0, b), (b, b, 0)],\n",
      " |  ...             pbc=True)\n",
      " |  \n",
      " |  Hydrogen wire:\n",
      " |  \n",
      " |  >>> d = 0.9  # H-H distance\n",
      " |  >>> h = Atoms('H', positions=[(0, 0, 0)],\n",
      " |  ...           cell=(d, 0, 0),\n",
      " |  ...           pbc=(1, 0, 0))\n",
      " |  \n",
      " |  Methods defined here:\n",
      " |  \n",
      " |  __add__(self, other)\n",
      " |  \n",
      " |  __delitem__(self, i)\n",
      " |  \n",
      " |  __eq__(self, other)\n",
      " |      Check for identity of two atoms objects.\n",
      " |      \n",
      " |      Identity means: same positions, atomic numbers, unit cell and\n",
      " |      periodic boundary conditions.\n",
      " |  \n",
      " |  __getitem__(self, i)\n",
      " |      Return a subset of the atoms.\n",
      " |      \n",
      " |      i -- scalar integer, list of integers, or slice object\n",
      " |      describing which atoms to return.\n",
      " |      \n",
      " |      If i is a scalar, return an Atom object. If i is a list or a\n",
      " |      slice, return an Atoms object with the same cell, pbc, and\n",
      " |      other associated info as the original Atoms object. The\n",
      " |      indices of the constraints will be shuffled so that they match\n",
      " |      the indexing in the subset returned.\n",
      " |  \n",
      " |  __iadd__(self, other)\n",
      " |  \n",
      " |  __imul__(self, m)\n",
      " |      In-place repeat of atoms.\n",
      " |  \n",
      " |  __init__(self, symbols=None, positions=None, numbers=None, tags=None, momenta=None, masses=None, magmoms=None, charges=None, scaled_positions=None, cell=None, pbc=None, celldisp=None, constraint=None, calculator=None, info=None, velocities=None)\n",
      " |      Initialize self.  See help(type(self)) for accurate signature.\n",
      " |  \n",
      " |  __len__(self)\n",
      " |  \n",
      " |  __mul__ = repeat(self, rep)\n",
      " |  \n",
      " |  __ne__(self, other)\n",
      " |      Check if two atoms objects are not equal.\n",
      " |      \n",
      " |      Any differences in positions, atomic numbers, unit cell or\n",
      " |      periodic boundary condtions make atoms objects not equal.\n",
      " |  \n",
      " |  __repr__(self)\n",
      " |      Return repr(self).\n",
      " |  \n",
      " |  append(self, atom)\n",
      " |      Append atom to end.\n",
      " |  \n",
      " |  center(self, vacuum=None, axis=(0, 1, 2), about=None)\n",
      " |      Center atoms in unit cell.\n",
      " |      \n",
      " |      Centers the atoms in the unit cell, so there is the same\n",
      " |      amount of vacuum on all sides.\n",
      " |      \n",
      " |      vacuum: float (default: None)\n",
      " |          If specified adjust the amount of vacuum when centering.\n",
      " |          If vacuum=10.0 there will thus be 10 Angstrom of vacuum\n",
      " |          on each side.\n",
      " |      axis: int or sequence of ints\n",
      " |          Axis or axes to act on.  Default: Act on all axes.\n",
      " |      about: float or array (default: None)\n",
      " |          If specified, center the atoms about <about>.\n",
      " |          I.e., about=(0., 0., 0.) (or just \"about=0.\", interpreted\n",
      " |          identically), to center about the origin.\n",
      " |  \n",
      " |  copy(self)\n",
      " |      Return a copy.\n",
      " |  \n",
      " |  edit(self)\n",
      " |      Modify atoms interactively through ASE's GUI viewer.\n",
      " |      \n",
      " |      Conflicts leading to undesirable behaviour might arise\n",
      " |      when matplotlib has been pre-imported with certain\n",
      " |      incompatible backends and while trying to use the\n",
      " |      plot feature inside the interactive GUI. To circumvent,\n",
      " |      please set matplotlib.use('gtk') before calling this\n",
      " |      method.\n",
      " |  \n",
      " |  euler_rotate(self, phi=0.0, theta=0.0, psi=0.0, center=(0, 0, 0))\n",
      " |      Rotate atoms via Euler angles (in degrees).\n",
      " |      \n",
      " |      See e.g http://mathworld.wolfram.com/EulerAngles.html for explanation.\n",
      " |      \n",
      " |      Parameters:\n",
      " |      \n",
      " |      center :\n",
      " |          The point to rotate about. A sequence of length 3 with the\n",
      " |          coordinates, or 'COM' to select the center of mass, 'COP' to\n",
      " |          select center of positions or 'COU' to select center of cell.\n",
      " |      phi :\n",
      " |          The 1st rotation angle around the z axis.\n",
      " |      theta :\n",
      " |          Rotation around the x axis.\n",
      " |      psi :\n",
      " |          2nd rotation around the z axis.\n",
      " |  \n",
      " |  extend(self, other)\n",
      " |      Extend atoms object by appending atoms from *other*.\n",
      " |  \n",
      " |  get_all_distances(self, mic=False, vector=False)\n",
      " |      Return distances of all of the atoms with all of the atoms.\n",
      " |      \n",
      " |      Use mic=True to use the Minimum Image Convention.\n",
      " |  \n",
      " |  get_angle(self, a1, a2, a3, mic=False)\n",
      " |      Get angle formed by three atoms.\n",
      " |      \n",
      " |      calculate angle in degrees between the vectors a2->a1 and\n",
      " |      a2->a3.\n",
      " |      \n",
      " |      Use mic=True to use the Minimum Image Convention and calculate the\n",
      " |      angle across periodic boundaries.\n",
      " |  \n",
      " |  get_angles(self, indices, mic=False)\n",
      " |      Get angle formed by three atoms for multiple groupings.\n",
      " |      \n",
      " |      calculate angle in degrees between vectors between atoms a2->a1\n",
      " |      and a2->a3, where a1, a2, and a3 are in each row of indices.\n",
      " |      \n",
      " |      Use mic=True to use the Minimum Image Convention and calculate\n",
      " |      the angle across periodic boundaries.\n",
      " |  \n",
      " |  get_angular_momentum(self)\n",
      " |      Get total angular momentum with respect to the center of mass.\n",
      " |  \n",
      " |  get_array(self, name, copy=True)\n",
      " |      Get an array.\n",
      " |      \n",
      " |      Returns a copy unless the optional argument copy is false.\n",
      " |  \n",
      " |  get_atomic_numbers(self)\n",
      " |      Get integer array of atomic numbers.\n",
      " |  \n",
      " |  get_calculator(self)\n",
      " |      Get currently attached calculator object.\n",
      " |  \n",
      " |  get_cell(self, complete=False)\n",
      " |      Get the three unit cell vectors as a `class`:ase.cell.Cell` object.\n",
      " |      \n",
      " |      The Cell object resembles a 3x3 ndarray, and cell[i, j]\n",
      " |      is the jth Cartesian coordinate of the ith cell vector.\n",
      " |  \n",
      " |  get_cell_lengths_and_angles(self)\n",
      " |      Get unit cell parameters. Sequence of 6 numbers.\n",
      " |      \n",
      " |      First three are unit cell vector lengths and second three\n",
      " |      are angles between them::\n",
      " |      \n",
      " |          [len(a), len(b), len(c), angle(b,c), angle(a,c), angle(a,b)]\n",
      " |      \n",
      " |      in degrees.\n",
      " |  \n",
      " |  get_celldisp(self)\n",
      " |      Get the unit cell displacement vectors.\n",
      " |  \n",
      " |  get_center_of_mass(self, scaled=False)\n",
      " |      Get the center of mass.\n",
      " |      \n",
      " |      If scaled=True the center of mass in scaled coordinates\n",
      " |      is returned.\n",
      " |  \n",
      " |  get_charges(self)\n",
      " |      Get calculated charges.\n",
      " |  \n",
      " |  get_chemical_formula(self, mode='hill', empirical=False)\n",
      " |      Get the chemical formula as a string based on the chemical symbols.\n",
      " |      \n",
      " |      Parameters:\n",
      " |      \n",
      " |      mode: str\n",
      " |          There are four different modes available:\n",
      " |      \n",
      " |          'all': The list of chemical symbols are contracted to a string,\n",
      " |          e.g. ['C', 'H', 'H', 'H', 'O', 'H'] becomes 'CHHHOH'.\n",
      " |      \n",
      " |          'reduce': The same as 'all' where repeated elements are contracted\n",
      " |          to a single symbol and a number, e.g. 'CHHHOCHHH' is reduced to\n",
      " |          'CH3OCH3'.\n",
      " |      \n",
      " |          'hill': The list of chemical symbols are contracted to a string\n",
      " |          following the Hill notation (alphabetical order with C and H\n",
      " |          first), e.g. 'CHHHOCHHH' is reduced to 'C2H6O' and 'SOOHOHO' to\n",
      " |          'H2O4S'. This is default.\n",
      " |      \n",
      " |          'metal': The list of chemical symbols (alphabetical metals,\n",
      " |          and alphabetical non-metals)\n",
      " |      \n",
      " |      empirical, bool (optional, default=False)\n",
      " |          Divide the symbol counts by their greatest common divisor to yield\n",
      " |          an empirical formula. Only for mode `metal` and `hill`.\n",
      " |  \n",
      " |  get_chemical_symbols(self)\n",
      " |      Get list of chemical symbol strings.\n",
      " |      \n",
      " |      Equivalent to ``list(atoms.symbols)``.\n",
      " |  \n",
      " |  get_dihedral(self, a1, a2=None, a3=None, a4=None, mic=False)\n",
      " |      Calculate dihedral angle.\n",
      " |      \n",
      " |      Calculate dihedral angle (in degrees) between the vectors a1->a2\n",
      " |      and a3->a4.\n",
      " |      \n",
      " |      Use mic=True to use the Minimum Image Convention and calculate the\n",
      " |      angle across periodic boundaries.\n",
      " |  \n",
      " |  get_dipole_moment(self)\n",
      " |      Calculate the electric dipole moment for the atoms object.\n",
      " |      \n",
      " |      Only available for calculators which has a get_dipole_moment()\n",
      " |      method.\n",
      " |  \n",
      " |  get_distance(self, a0, a1, mic=False, vector=False)\n",
      " |      Return distance between two atoms.\n",
      " |      \n",
      " |      Use mic=True to use the Minimum Image Convention.\n",
      " |      vector=True gives the distance vector (from a0 to a1).\n",
      " |  \n",
      " |  get_distances(self, a, indices, mic=False, vector=False)\n",
      " |      Return distances of atom No.i with a list of atoms.\n",
      " |      \n",
      " |      Use mic=True to use the Minimum Image Convention.\n",
      " |      vector=True gives the distance vector (from a to self[indices]).\n",
      " |  \n",
      " |  get_forces(self, apply_constraint=True, md=False)\n",
      " |      Calculate atomic forces.\n",
      " |      \n",
      " |      Ask the attached calculator to calculate the forces and apply\n",
      " |      constraints.  Use *apply_constraint=False* to get the raw\n",
      " |      forces.\n",
      " |      \n",
      " |      For molecular dynamics (md=True) we don't apply the constraint\n",
      " |      to the forces but to the momenta. When holonomic constraints for\n",
      " |      rigid linear triatomic molecules are present, ask the constraints\n",
      " |      to redistribute the forces within each triple defined in the\n",
      " |      constraints (required for molecular dynamics with this type of\n",
      " |      constraints).\n",
      " |  \n",
      " |  get_global_number_of_atoms(self)\n",
      " |      Returns the global number of atoms in a distributed-atoms parallel\n",
      " |      simulation.\n",
      " |      \n",
      " |      DO NOT USE UNLESS YOU KNOW WHAT YOU ARE DOING!\n",
      " |      \n",
      " |      Equivalent to len(atoms) in the standard ASE Atoms class.  You should\n",
      " |      normally use len(atoms) instead.  This function's only purpose is to\n",
      " |      make compatibility between ASE and Asap easier to maintain by having a\n",
      " |      few places in ASE use this function instead.  It is typically only\n",
      " |      when counting the global number of degrees of freedom or in similar\n",
      " |      situations.\n",
      " |  \n",
      " |  get_initial_charges(self)\n",
      " |      Get array of initial charges.\n",
      " |  \n",
      " |  get_initial_magnetic_moments(self)\n",
      " |      Get array of initial magnetic moments.\n",
      " |  \n",
      " |  get_kinetic_energy(self)\n",
      " |      Get the kinetic energy.\n",
      " |  \n",
      " |  get_magnetic_moment(self)\n",
      " |      Get calculated total magnetic moment.\n",
      " |  \n",
      " |  get_magnetic_moments(self)\n",
      " |      Get calculated local magnetic moments.\n",
      " |  \n",
      " |  get_masses(self)\n",
      " |      Get array of masses in atomic mass units.\n",
      " |  \n",
      " |  get_momenta(self)\n",
      " |      Get array of momenta.\n",
      " |  \n",
      " |  get_moments_of_inertia(self, vectors=False)\n",
      " |      Get the moments of inertia along the principal axes.\n",
      " |      \n",
      " |      The three principal moments of inertia are computed from the\n",
      " |      eigenvalues of the symmetric inertial tensor. Periodic boundary\n",
      " |      conditions are ignored. Units of the moments of inertia are\n",
      " |      amu*angstrom**2.\n",
      " |  \n",
      " |  get_number_of_atoms(self)\n",
      " |      Deprecated, please do not use.\n",
      " |      \n",
      " |      You probably want len(atoms).  Or if your atoms are distributed,\n",
      " |      use (and see) get_global_number_of_atoms().\n",
      " |  \n",
      " |  get_pbc(self)\n",
      " |      Get periodic boundary condition flags.\n",
      " |  \n",
      " |  get_positions(self, wrap=False, **wrap_kw)\n",
      " |      Get array of positions.\n",
      " |      \n",
      " |      Parameters:\n",
      " |      \n",
      " |      wrap: bool\n",
      " |          wrap atoms back to the cell before returning positions\n",
      " |      wrap_kw: (keyword=value) pairs\n",
      " |          optional keywords `pbc`, `center`, `pretty_translation`, `eps`,\n",
      " |          see :func:`ase.geometry.wrap_positions`\n",
      " |  \n",
      " |  get_potential_energies(self)\n",
      " |      Calculate the potential energies of all the atoms.\n",
      " |      \n",
      " |      Only available with calculators supporting per-atom energies\n",
      " |      (e.g. classical potentials).\n",
      " |  \n",
      " |  get_potential_energy(self, force_consistent=False, apply_constraint=True)\n",
      " |      Calculate potential energy.\n",
      " |      \n",
      " |      Ask the attached calculator to calculate the potential energy and\n",
      " |      apply constraints.  Use *apply_constraint=False* to get the raw\n",
      " |      forces.\n",
      " |      \n",
      " |      When supported by the calculator, either the energy extrapolated\n",
      " |      to zero Kelvin or the energy consistent with the forces (the free\n",
      " |      energy) can be returned.\n",
      " |  \n",
      " |  get_reciprocal_cell(self)\n",
      " |      Get the three reciprocal lattice vectors as a 3x3 ndarray.\n",
      " |      \n",
      " |      Note that the commonly used factor of 2 pi for Fourier\n",
      " |      transforms is not included here.\n",
      " |  \n",
      " |  get_scaled_positions(self, wrap=True)\n",
      " |      Get positions relative to unit cell.\n",
      " |      \n",
      " |      If wrap is True, atoms outside the unit cell will be wrapped into\n",
      " |      the cell in those directions with periodic boundary conditions\n",
      " |      so that the scaled coordinates are between zero and one.\n",
      " |  \n",
      " |  get_stress(self, voigt=True, apply_constraint=True, include_ideal_gas=False)\n",
      " |      Calculate stress tensor.\n",
      " |      \n",
      " |      Returns an array of the six independent components of the\n",
      " |      symmetric stress tensor, in the traditional Voigt order\n",
      " |      (xx, yy, zz, yz, xz, xy) or as a 3x3 matrix.  Default is Voigt\n",
      " |      order.\n",
      " |      \n",
      " |      The ideal gas contribution to the stresses is added if the\n",
      " |      atoms have momenta and ``include_ideal_gas`` is set to True.\n",
      " |  \n",
      " |  get_stresses(self, include_ideal_gas=False)\n",
      " |      Calculate the stress-tensor of all the atoms.\n",
      " |      \n",
      " |      Only available with calculators supporting per-atom energies and\n",
      " |      stresses (e.g. classical potentials).  Even for such calculators\n",
      " |      there is a certain arbitrariness in defining per-atom stresses.\n",
      " |      \n",
      " |      The ideal gas contribution to the stresses is added if the\n",
      " |      atoms have momenta and ``include_ideal_gas`` is set to True.\n",
      " |  \n",
      " |  get_tags(self)\n",
      " |      Get integer array of tags.\n",
      " |  \n",
      " |  get_temperature(self)\n",
      " |      Get the temperature in Kelvin.\n",
      " |  \n",
      " |  get_total_energy(self)\n",
      " |      Get the total energy - potential plus kinetic energy.\n",
      " |  \n",
      " |  get_velocities(self)\n",
      " |      Get array of velocities.\n",
      " |  \n",
      " |  get_volume(self)\n",
      " |      Get volume of unit cell.\n",
      " |  \n",
      " |  has(self, name)\n",
      " |      Check for existence of array.\n",
      " |      \n",
      " |      name must be one of: 'tags', 'momenta', 'masses', 'initial_magmoms',\n",
      " |      'initial_charges'.\n",
      " |  \n",
      " |  iterimages(self)\n",
      " |  \n",
      " |  new_array(self, name, a, dtype=None, shape=None)\n",
      " |      Add new array.\n",
      " |      \n",
      " |      If *shape* is not *None*, the shape of *a* will be checked.\n",
      " |  \n",
      " |  pop(self, i=-1)\n",
      " |      Remove and return atom at index *i* (default last).\n",
      " |  \n",
      " |  rattle(self, stdev=0.001, seed=None, rng=None)\n",
      " |      Randomly displace atoms.\n",
      " |      \n",
      " |      This method adds random displacements to the atomic positions,\n",
      " |      taking a possible constraint into account.  The random numbers are\n",
      " |      drawn from a normal distribution of standard deviation stdev.\n",
      " |      \n",
      " |      For a parallel calculation, it is important to use the same\n",
      " |      seed on all processors!\n",
      " |  \n",
      " |  repeat(self, rep)\n",
      " |      Create new repeated atoms object.\n",
      " |      \n",
      " |      The *rep* argument should be a sequence of three positive\n",
      " |      integers like *(2,3,1)* or a single integer (*r*) equivalent\n",
      " |      to *(r,r,r)*.\n",
      " |  \n",
      " |  rotate(self, a, v=None, center=(0, 0, 0), rotate_cell=False)\n",
      " |      Rotate atoms based on a vector and an angle, or two vectors.\n",
      " |      \n",
      " |      Parameters:\n",
      " |      \n",
      " |      a = None:\n",
      " |          Angle that the atoms is rotated around the vecor 'v'. 'a'\n",
      " |          can also be a vector and then 'a' is rotated\n",
      " |          into 'v'.\n",
      " |      \n",
      " |      v:\n",
      " |          Vector to rotate the atoms around. Vectors can be given as\n",
      " |          strings: 'x', '-x', 'y', ... .\n",
      " |      \n",
      " |      center = (0, 0, 0):\n",
      " |          The center is kept fixed under the rotation. Use 'COM' to fix\n",
      " |          the center of mass, 'COP' to fix the center of positions or\n",
      " |          'COU' to fix the center of cell.\n",
      " |      \n",
      " |      rotate_cell = False:\n",
      " |          If true the cell is also rotated.\n",
      " |      \n",
      " |      Examples:\n",
      " |      \n",
      " |      Rotate 90 degrees around the z-axis, so that the x-axis is\n",
      " |      rotated into the y-axis:\n",
      " |      \n",
      " |      >>> atoms = Atoms()\n",
      " |      >>> atoms.rotate(90, 'z')\n",
      " |      >>> atoms.rotate(90, (0, 0, 1))\n",
      " |      >>> atoms.rotate(-90, '-z')\n",
      " |      >>> atoms.rotate('x', 'y')\n",
      " |      >>> atoms.rotate((1, 0, 0), (0, 1, 0))\n",
      " |  \n",
      " |  rotate_dihedral(self, a1, a2=None, a3=None, a4=None, angle=None, mask=None, indices=None)\n",
      " |      Rotate dihedral angle.\n",
      " |      \n",
      " |      Same usage as in :meth:`ase.Atoms.set_dihedral`: Rotate a group by a\n",
      " |      predefined dihedral angle, starting from its current configuration.\n",
      " |  \n",
      " |  rotate_euler(self, center=(0, 0, 0), phi=0.0, theta=0.0, psi=0.0)\n",
      " |  \n",
      " |  set_angle(self, a1, a2=None, a3=None, angle=None, mask=None, indices=None, add=False)\n",
      " |      Set angle (in degrees) formed by three atoms.\n",
      " |      \n",
      " |      Sets the angle between vectors *a2*->*a1* and *a2*->*a3*.\n",
      " |      \n",
      " |      If *add* is `True`, the angle will be changed by the value given.\n",
      " |      \n",
      " |      Same usage as in :meth:`ase.Atoms.set_dihedral`.\n",
      " |      If *mask* and *indices*\n",
      " |      are given, *indices* overwrites *mask*. If *mask* and *indices*\n",
      " |      are not set, only *a3* is moved.\n",
      " |  \n",
      " |  set_array(self, name, a, dtype=None, shape=None)\n",
      " |      Update array.\n",
      " |      \n",
      " |      If *shape* is not *None*, the shape of *a* will be checked.\n",
      " |      If *a* is *None*, then the array is deleted.\n",
      " |  \n",
      " |  set_atomic_numbers(self, numbers)\n",
      " |      Set atomic numbers.\n",
      " |  \n",
      " |  set_calculator(self, calc=None)\n",
      " |      Attach calculator object.\n",
      " |  \n",
      " |  set_cell(self, cell, scale_atoms=False, apply_constraint=True)\n",
      " |      Set unit cell vectors.\n",
      " |      \n",
      " |      Parameters:\n",
      " |      \n",
      " |      cell: 3x3 matrix or length 3 or 6 vector\n",
      " |          Unit cell.  A 3x3 matrix (the three unit cell vectors) or\n",
      " |          just three numbers for an orthorhombic cell. Another option is\n",
      " |          6 numbers, which describes unit cell with lengths of unit cell\n",
      " |          vectors and with angles between them (in degrees), in following\n",
      " |          order: [len(a), len(b), len(c), angle(b,c), angle(a,c),\n",
      " |          angle(a,b)].  First vector will lie in x-direction, second in\n",
      " |          xy-plane, and the third one in z-positive subspace.\n",
      " |      scale_atoms: bool\n",
      " |          Fix atomic positions or move atoms with the unit cell?\n",
      " |          Default behavior is to *not* move the atoms (scale_atoms=False).\n",
      " |      \n",
      " |      Examples:\n",
      " |      \n",
      " |      Two equivalent ways to define an orthorhombic cell:\n",
      " |      \n",
      " |      >>> atoms = Atoms('He')\n",
      " |      >>> a, b, c = 7, 7.5, 8\n",
      " |      >>> atoms.set_cell([a, b, c])\n",
      " |      >>> atoms.set_cell([(a, 0, 0), (0, b, 0), (0, 0, c)])\n",
      " |      \n",
      " |      FCC unit cell:\n",
      " |      \n",
      " |      >>> atoms.set_cell([(0, b, b), (b, 0, b), (b, b, 0)])\n",
      " |      \n",
      " |      Hexagonal unit cell:\n",
      " |      \n",
      " |      >>> atoms.set_cell([a, a, c, 90, 90, 120])\n",
      " |      \n",
      " |      Rhombohedral unit cell:\n",
      " |      \n",
      " |      >>> alpha = 77\n",
      " |      >>> atoms.set_cell([a, a, a, alpha, alpha, alpha])\n",
      " |  \n",
      " |  set_celldisp(self, celldisp)\n",
      " |      Set the unit cell displacement vectors.\n",
      " |  \n",
      " |  set_chemical_symbols(self, symbols)\n",
      " |      Set chemical symbols.\n",
      " |  \n",
      " |  set_constraint(self, constraint=None)\n",
      " |      Apply one or more constrains.\n",
      " |      \n",
      " |      The *constraint* argument must be one constraint object or a\n",
      " |      list of constraint objects.\n",
      " |  \n",
      " |  set_dihedral(self, a1, a2=None, a3=None, a4=None, angle=None, mask=None, indices=None)\n",
      " |      Set the dihedral angle (degrees) between vectors a1->a2 and\n",
      " |      a3->a4 by changing the atom indexed by a4.\n",
      " |      \n",
      " |      If mask is not None, all the atoms described in mask\n",
      " |      (read: the entire subgroup) are moved. Alternatively to the mask,\n",
      " |      the indices of the atoms to be rotated can be supplied. If both\n",
      " |      *mask* and *indices* are given, *indices* overwrites *mask*.\n",
      " |      \n",
      " |      **Important**: If *mask* or *indices* is given and does not contain\n",
      " |      *a4*, *a4* will NOT be moved. In most cases you therefore want\n",
      " |      to include *a4* in *mask*/*indices*.\n",
      " |      \n",
      " |      Example: the following defines a very crude\n",
      " |      ethane-like molecule and twists one half of it by 30 degrees.\n",
      " |      \n",
      " |      >>> atoms = Atoms('HHCCHH', [[-1, 1, 0], [-1, -1, 0], [0, 0, 0],\n",
      " |      ...                          [1, 0, 0], [2, 1, 0], [2, -1, 0]])\n",
      " |      >>> atoms.set_dihedral(1, 2, 3, 4, 210, mask=[0, 0, 0, 1, 1, 1])\n",
      " |  \n",
      " |  set_distance(self, a0, a1, distance, fix=0.5, mic=False, mask=None, indices=None, add=False, factor=False)\n",
      " |      Set the distance between two atoms.\n",
      " |      \n",
      " |      Set the distance between atoms *a0* and *a1* to *distance*.\n",
      " |      By default, the center of the two atoms will be fixed.  Use\n",
      " |      *fix=0* to fix the first atom, *fix=1* to fix the second\n",
      " |      atom and *fix=0.5* (default) to fix the center of the bond.\n",
      " |      \n",
      " |      If *mask* or *indices* are set (*mask* overwrites *indices*),\n",
      " |      only the atoms defined there are moved\n",
      " |      (see :meth:`ase.Atoms.set_dihedral`).\n",
      " |      \n",
      " |      When *add* is true, the distance is changed by the value given.\n",
      " |      In combination\n",
      " |      with *factor* True, the value given is a factor scaling the distance.\n",
      " |      \n",
      " |      It is assumed that the atoms in *mask*/*indices* move together\n",
      " |      with *a1*. If *fix=1*, only *a0* will therefore be moved.\n",
      " |  \n",
      " |  set_initial_charges(self, charges=None)\n",
      " |      Set the initial charges.\n",
      " |  \n",
      " |  set_initial_magnetic_moments(self, magmoms=None)\n",
      " |      Set the initial magnetic moments.\n",
      " |      \n",
      " |      Use either one or three numbers for every atom (collinear\n",
      " |      or non-collinear spins).\n",
      " |  \n",
      " |  set_masses(self, masses='defaults')\n",
      " |      Set atomic masses in atomic mass units.\n",
      " |      \n",
      " |      The array masses should contain a list of masses.  In case\n",
      " |      the masses argument is not given or for those elements of the\n",
      " |      masses list that are None, standard values are set.\n",
      " |  \n",
      " |  set_momenta(self, momenta, apply_constraint=True)\n",
      " |      Set momenta.\n",
      " |  \n",
      " |  set_pbc(self, pbc)\n",
      " |      Set periodic boundary condition flags.\n",
      " |  \n",
      " |  set_positions(self, newpositions, apply_constraint=True)\n",
      " |      Set positions, honoring any constraints. To ignore constraints,\n",
      " |      use *apply_constraint=False*.\n",
      " |  \n",
      " |  set_scaled_positions(self, scaled)\n",
      " |      Set positions relative to unit cell.\n",
      " |  \n",
      " |  set_tags(self, tags)\n",
      " |      Set tags for all atoms. If only one tag is supplied, it is\n",
      " |      applied to all atoms.\n",
      " |  \n",
      " |  set_velocities(self, velocities)\n",
      " |      Set the momenta by specifying the velocities.\n",
      " |  \n",
      " |  todict(self)\n",
      " |      For basic JSON (non-database) support.\n",
      " |  \n",
      " |  translate(self, displacement)\n",
      " |      Translate atomic positions.\n",
      " |      \n",
      " |      The displacement argument can be a float an xyz vector or an\n",
      " |      nx3 array (where n is the number of atoms).\n",
      " |  \n",
      " |  wrap(self, **wrap_kw)\n",
      " |      Wrap positions to unit cell.\n",
      " |      \n",
      " |      Parameters:\n",
      " |      \n",
      " |      wrap_kw: (keyword=value) pairs\n",
      " |          optional keywords `pbc`, `center`, `pretty_translation`, `eps`,\n",
      " |          see :func:`ase.geometry.wrap_positions`\n",
      " |  \n",
      " |  write(self, filename, format=None, **kwargs)\n",
      " |      Write atoms object to a file.\n",
      " |      \n",
      " |      see ase.io.write for formats.\n",
      " |      kwargs are passed to ase.io.write.\n",
      " |  \n",
      " |  ----------------------------------------------------------------------\n",
      " |  Class methods defined here:\n",
      " |  \n",
      " |  fromdict(dct) from builtins.type\n",
      " |      Rebuild atoms object from dictionary representation (todict).\n",
      " |  \n",
      " |  ----------------------------------------------------------------------\n",
      " |  Data descriptors defined here:\n",
      " |  \n",
      " |  __dict__\n",
      " |      dictionary for instance variables (if defined)\n",
      " |  \n",
      " |  __weakref__\n",
      " |      list of weak references to the object (if defined)\n",
      " |  \n",
      " |  adsorbate_info\n",
      " |      Return the adsorbate information set by one of the surface\n",
      " |      builder functions. This function is only supplied in order to give\n",
      " |      a warning if this attribute (atoms.adsorbate_info) is asked for.\n",
      " |      The dictionary with adsorbate information has been moved to the\n",
      " |      info dictionary, i.e. atoms.info['adsorbate_info'].\n",
      " |  \n",
      " |  calc\n",
      " |      Calculator object.\n",
      " |  \n",
      " |  cell\n",
      " |      Attribute for direct manipulation of the unit :class:`ase.cell.Cell`.\n",
      " |  \n",
      " |  constraints\n",
      " |      Constraints of the atoms.\n",
      " |  \n",
      " |  number_of_lattice_vectors\n",
      " |      Number of (non-zero) lattice vectors.\n",
      " |  \n",
      " |  numbers\n",
      " |      Attribute for direct manipulation of the atomic numbers.\n",
      " |  \n",
      " |  pbc\n",
      " |      Attribute for direct manipulation of the periodic boundary condition flags.\n",
      " |  \n",
      " |  positions\n",
      " |      Attribute for direct manipulation of the positions.\n",
      " |  \n",
      " |  symbols\n",
      " |      Get chemical symbols as a :class:`ase.symbols.Symbols` object.\n",
      " |      \n",
      " |      The object works like ``atoms.numbers`` except its values\n",
      " |      are strings.  It supports in-place editing.\n",
      " |  \n",
      " |  ----------------------------------------------------------------------\n",
      " |  Data and other attributes defined here:\n",
      " |  \n",
      " |  __hash__ = None\n",
      " |  \n",
      " |  ase_objtype = 'atoms'\n",
      "\n"
     ]
    }
   ],
   "source": [
    "help(Atoms)"
   ]
  },
  {
   "cell_type": "code",
   "execution_count": null,
   "metadata": {},
   "outputs": [],
   "source": []
  }
 ],
 "metadata": {
  "kernelspec": {
   "display_name": "Python 3",
   "language": "python",
   "name": "python3"
  },
  "language_info": {
   "codemirror_mode": {
    "name": "ipython",
    "version": 3
   },
   "file_extension": ".py",
   "mimetype": "text/x-python",
   "name": "python",
   "nbconvert_exporter": "python",
   "pygments_lexer": "ipython3",
   "version": "3.7.4"
  },
  "toc": {
   "base_numbering": 1,
   "nav_menu": {},
   "number_sections": true,
   "sideBar": true,
   "skip_h1_title": true,
   "title_cell": "Table of Contents",
   "title_sidebar": "Contents",
   "toc_cell": true,
   "toc_position": {},
   "toc_section_display": true,
   "toc_window_display": false
  }
 },
 "nbformat": 4,
 "nbformat_minor": 2
}
