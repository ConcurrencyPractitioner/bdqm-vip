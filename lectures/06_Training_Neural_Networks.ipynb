{
 "cells": [
  {
   "cell_type": "markdown",
   "metadata": {},
   "source": [
    "# Neural Network Force Fields\n",
    "\n",
    "A lot of what we do in our group involves the use of what are called \"neural network forcefields.\" These are basically energy and force calculators that are just neural networks that have been trained against some data (be it quantum mechanical/classical/semi-empircal/ect...) It is trained to recreate the potential energy surface\n",
    "\n",
    "This is little strange, but it will make sense in a second."
   ]
  },
  {
   "cell_type": "code",
   "execution_count": null,
   "metadata": {},
   "outputs": [],
   "source": [
    "!pip install amp-atomistics\n",
    "!pip install ase"
   ]
  },
  {
   "cell_type": "code",
   "execution_count": null,
   "metadata": {},
   "outputs": [],
   "source": [
    "from ase.build import molecule\n",
    "from ase.calculators.emt import EMT\n",
    "import numpy as np\n",
    "\n",
    "atoms = molecule('CO')\n",
    "atoms.set_calculator(EMT())\n",
    "\n",
    "distances = np.arange(-0.5,3,0.1)\n",
    "potential_energies = []\n",
    "\n",
    "\n",
    "for distance in distances:\n",
    "    atoms[0].position = [0,0,distance]\n",
    "    PE = atoms.get_potential_energy()\n",
    "    potential_energies.append(PE)"
   ]
  },
  {
   "cell_type": "code",
   "execution_count": null,
   "metadata": {},
   "outputs": [],
   "source": [
    "import matplotlib.pyplot as plt\n",
    "%matplotlib inline\n",
    "\n",
    "plt.plot(distances, potential_energies,'-o')"
   ]
  },
  {
   "cell_type": "markdown",
   "metadata": {},
   "source": [
    "the chemists and chemical engineers among you may recognize this...\n",
    "\n",
    "Now let's train a forcefield to replicate this. The code block below is just repeating what we did previously, but saving the images in a list to use as training data."
   ]
  },
  {
   "cell_type": "code",
   "execution_count": null,
   "metadata": {},
   "outputs": [],
   "source": [
    "from ase.io.trajectory import TrajectoryWriter\n",
    "\n",
    "list_of_atoms = []\n",
    "list_of_energies = []\n",
    "tr = TrajectoryWriter('CO.traj')\n",
    "\n",
    "for distance in distances:\n",
    "    atoms = molecule('CO')\n",
    "    atoms.set_calculator(EMT())\n",
    "    atoms[0].position = [0,0,distance]\n",
    "    list_of_energies.append(atoms.get_potential_energy())\n",
    "    atoms.get_forces()\n",
    "    #tr.write(atoms)\n",
    "    list_of_atoms.append(atoms)\n"
   ]
  },
  {
   "cell_type": "markdown",
   "metadata": {},
   "source": [
    "Now let's train a neural net, we're going to use [amp](https://amp.readthedocs.io/en/latest/useamp.html) (but in the future you will use simple_nn)"
   ]
  },
  {
   "cell_type": "code",
   "execution_count": null,
   "metadata": {},
   "outputs": [],
   "source": [
    "from amp import Amp"
   ]
  },
  {
   "cell_type": "markdown",
   "metadata": {},
   "source": [
    "## The Descriptors\n",
    "\n",
    "There are two kinds of descriptors: radial ($G_2$) and angular ($G_4$).\n",
    "\n",
    "$G_{2} = \\Sigma_{i \\neq j} exp(-\\eta (\\frac{R_{ij}}{R_{c}})^2)f_C(R_{ij})$\n",
    "\n",
    "For $G_2$ you can pick the value of $\\eta$, the fall off speed and $R_c$, the cutoff distance\n",
    "\n",
    "\n",
    "$G_{4} = 2^{1-\\zeta} \\Sigma_i\\Sigma_j\\Sigma_{k i \\neq j \\neq k} (1+\\gamma cos(\\Theta_{jik}))^{\\zeta}exp(-\\eta \\frac{R_{ij}^2 +R_{ik}^2+R_{jk}^2}{R_{c}^2}) f_C(R_{ij})f_c(R_{ij})f_c(R_{ik})f_c(R_{kj})$\n",
    "\n",
    "For $G_4$ you can pick $\\eta$, $\\zeta$, $\\gamma$, and $R_c$\n",
    "\n",
    "normally, you punt on the angular values and choose $\\gamma = -1,1$ and $\\zeta = 1,4$. Notice that this is a three body term\n",
    "\n",
    "the cutoff function is:\n",
    "\n",
    "$f_c(R_{ij}) = \\frac{1}{2}(1 + cos(\\pi \\frac{Rij}{Rc}))$\n",
    "\n"
   ]
  },
  {
   "cell_type": "code",
   "execution_count": null,
   "metadata": {},
   "outputs": [],
   "source": [
    "from amp.descriptor.gaussian import Gaussian\n",
    "from amp.utilities import hash_images\n",
    "\n",
    "hashes = hash_images(list_of_atoms)\n",
    "descriptor = Gaussian() #defaults\n",
    "descriptor.calculate_fingerprints(hashes)\n",
    "print(descriptor.parameters)"
   ]
  },
  {
   "cell_type": "code",
   "execution_count": null,
   "metadata": {},
   "outputs": [],
   "source": [
    "descriptor.fingerprints['96d61608e3336dd3b0083e0d10d54f5e']"
   ]
  },
  {
   "cell_type": "markdown",
   "metadata": {},
   "source": [
    "# The Model\n",
    "\n",
    "we're going to use a neural network"
   ]
  },
  {
   "cell_type": "code",
   "execution_count": null,
   "metadata": {},
   "outputs": [],
   "source": [
    "from amp.model.neuralnetwork import NeuralNetwork"
   ]
  },
  {
   "cell_type": "code",
   "execution_count": null,
   "metadata": {},
   "outputs": [],
   "source": [
    "model = NeuralNetwork(hiddenlayers=(5, 5), activation='tanh')"
   ]
  },
  {
   "cell_type": "code",
   "execution_count": null,
   "metadata": {},
   "outputs": [],
   "source": [
    "from amp import Amp\n",
    "\n",
    "calc = Amp(descriptor=descriptor, model=model,\n",
    "           label='calc')\n",
    "calc.train(images=list_of_atoms)"
   ]
  },
  {
   "cell_type": "code",
   "execution_count": null,
   "metadata": {},
   "outputs": [],
   "source": [
    "calc = Amp.load('calc.amp')\n",
    "atoms = molecule('CO')\n",
    "atoms.set_calculator(calc)\n",
    "\n",
    "distances = np.arange(-0.5,20,0.1)\n",
    "NN_potential_energies = []\n",
    "\n",
    "\n",
    "for distance in distances:\n",
    "    atoms[0].position = [0,0,distance]\n",
    "    PE = atoms.get_potential_energy()\n",
    "    NN_potential_energies.append(PE)\n",
    "\n",
    "plt.plot(distances, NN_potential_energies,'-')"
   ]
  },
  {
   "cell_type": "markdown",
   "metadata": {},
   "source": [
    "# The Parity Plot\n",
    "\n",
    "We want to see how close our predictions are to the correct answer"
   ]
  },
  {
   "cell_type": "code",
   "execution_count": null,
   "metadata": {},
   "outputs": [],
   "source": [
    "plt.scatter(list_of_energies, NN_potential_energies)\n",
    "\n",
    "plt.plot(min(list_of_energies), )\n",
    "plt.ylabel('NN Predicted Energy')\n",
    "plt.xlabel('EMT Energy')\n",
    "\n",
    "# make the parity line\n",
    "combined = list_of_energies + NN_potential_energies\n",
    "minumum = min(combined)\n",
    "maximum = max(combined)\n",
    "plt.plot([minumum, maximum],[minumum, maximum])"
   ]
  },
  {
   "cell_type": "markdown",
   "metadata": {},
   "source": [
    "# Error Metric\n",
    "\n",
    "there are many error metrics, here we will look at the root mean square error (RMSE):\n",
    "\n",
    "$L_{RMSE} = \\sqrt{\\frac{1}{n}\\Sigma_{i=1}^n (E-E_{pred})^2}$"
   ]
  },
  {
   "cell_type": "code",
   "execution_count": null,
   "metadata": {},
   "outputs": [],
   "source": [
    "sse = [(a - b) ** 2 for a, b in zip(list_of_energies, NN_potential_energies)]\n",
    "mse = np.mean(sse)\n",
    "rmse = np.sqrt(mse)\n",
    "print(rmse)"
   ]
  },
  {
   "cell_type": "code",
   "execution_count": null,
   "metadata": {},
   "outputs": [],
   "source": [
    "from amp import Amp\n",
    "from ase.io import read\n",
    "\n",
    "distances = np.arange(-0.5,2,0.1)\n",
    "angles = np.arange(103,180, 2)\n",
    "list_of_waters = []\n",
    "water_energies = []\n",
    "\n",
    "\n",
    "for distance in distances:\n",
    "    for angle in angles:\n",
    "        atoms = molecule('H2O')\n",
    "        atoms.set_angle(1, 0, 2, angle)\n",
    "        atoms.set_distance(0, 1,distance, fix=0)\n",
    "        atoms.set_calculator(EMT())\n",
    "        water_energies.append(atoms.get_potential_energy())\n",
    "        atoms.get_forces()\n",
    "        list_of_waters.append(atoms)\n",
    "\n",
    "calc = Amp(descriptor=Gaussian(), model=NeuralNetwork(),\n",
    "           label='calc2')\n",
    "calc.model.lossfunction.parameters['convergence'].update(\n",
    "    {'energy_rmse': 0.05,})\n",
    "calc.train(images=list_of_waters)"
   ]
  },
  {
   "cell_type": "code",
   "execution_count": null,
   "metadata": {},
   "outputs": [],
   "source": []
  }
 ],
 "metadata": {
  "kernelspec": {
   "display_name": "Python 3",
   "language": "python",
   "name": "python3"
  },
  "language_info": {
   "codemirror_mode": {
    "name": "ipython",
    "version": 3
   },
   "file_extension": ".py",
   "mimetype": "text/x-python",
   "name": "python",
   "nbconvert_exporter": "python",
   "pygments_lexer": "ipython3",
   "version": "3.7.3"
  }
 },
 "nbformat": 4,
 "nbformat_minor": 2
}
