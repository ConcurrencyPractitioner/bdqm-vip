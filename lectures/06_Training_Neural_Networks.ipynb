{
 "cells": [
  {
   "cell_type": "markdown",
   "metadata": {},
   "source": [
    "# Neural Network Force Fields\n",
    "\n",
    "A lot of what we do in our group involves the use of what are called \"neural network forcefields.\" These are basically energy and force calculators that are just neural networks that have been trained against some data (be it quantum mechanical/classical/semi-empircal/ect...) It is trained to recreate the potential energy surface\n",
    "\n",
    "This is little strange, but it will make sense in a second."
   ]
  },
  {
   "cell_type": "code",
   "execution_count": 1,
   "metadata": {},
   "outputs": [
    {
     "name": "stdout",
     "output_type": "stream",
     "text": [
      "Requirement already satisfied: amp-atomistics in /home/bencomer/anaconda3/lib/python3.7/site-packages (0.7.0b0)\n",
      "Requirement already satisfied: numpy>=1.7.0 in /home/bencomer/anaconda3/lib/python3.7/site-packages (from amp-atomistics) (1.16.4)\n",
      "Requirement already satisfied: matplotlib in /home/bencomer/.local/lib/python3.7/site-packages/matplotlib-2.2.4-py3.7-linux-x86_64.egg (from amp-atomistics) (2.2.4)\n",
      "Requirement already satisfied: ase in /home/bencomer/anaconda3/lib/python3.7/site-packages (from amp-atomistics) (3.18.0)\n",
      "Requirement already satisfied: pexpect in /home/bencomer/anaconda3/lib/python3.7/site-packages (from amp-atomistics) (4.7.0)\n",
      "Requirement already satisfied: pyzmq in /home/bencomer/anaconda3/lib/python3.7/site-packages (from amp-atomistics) (18.0.0)\n",
      "Requirement already satisfied: cycler>=0.10 in /home/bencomer/.local/lib/python3.7/site-packages/cycler-0.10.0-py3.7.egg (from matplotlib->amp-atomistics) (0.10.0)\n",
      "Requirement already satisfied: kiwisolver>=1.0.1 in /home/bencomer/.local/lib/python3.7/site-packages/kiwisolver-1.1.0-py3.7-linux-x86_64.egg (from matplotlib->amp-atomistics) (1.1.0)\n",
      "Requirement already satisfied: pyparsing!=2.0.4,!=2.1.2,!=2.1.6,>=2.0.1 in /home/bencomer/.local/lib/python3.7/site-packages/pyparsing-2.4.0-py3.7.egg (from matplotlib->amp-atomistics) (2.4.0)\n",
      "Requirement already satisfied: python-dateutil>=2.1 in /home/bencomer/.local/lib/python3.7/site-packages/python_dateutil-2.8.0-py3.7.egg (from matplotlib->amp-atomistics) (2.8.0)\n",
      "Requirement already satisfied: pytz in /home/bencomer/.local/lib/python3.7/site-packages/pytz-2019.1-py3.7.egg (from matplotlib->amp-atomistics) (2019.1)\n",
      "Requirement already satisfied: six>=1.10 in /home/bencomer/anaconda3/lib/python3.7/site-packages (from matplotlib->amp-atomistics) (1.12.0)\n",
      "Requirement already satisfied: flask in /home/bencomer/.local/lib/python3.7/site-packages/Flask-1.0.3-py3.7.egg (from ase->amp-atomistics) (1.0.3)\n",
      "Requirement already satisfied: scipy in /home/bencomer/anaconda3/lib/python3.7/site-packages (from ase->amp-atomistics) (1.3.0)\n",
      "Requirement already satisfied: ptyprocess>=0.5 in /home/bencomer/anaconda3/lib/python3.7/site-packages (from pexpect->amp-atomistics) (0.6.0)\n",
      "Requirement already satisfied: setuptools in /home/bencomer/anaconda3/lib/python3.7/site-packages (from kiwisolver>=1.0.1->matplotlib->amp-atomistics) (41.0.1)\n",
      "Requirement already satisfied: Jinja2>=2.10 in /home/bencomer/.local/lib/python3.7/site-packages/Jinja2-2.10.1-py3.7.egg (from flask->ase->amp-atomistics) (2.10.1)\n",
      "Requirement already satisfied: Werkzeug>=0.14 in /home/bencomer/anaconda3/lib/python3.7/site-packages (from flask->ase->amp-atomistics) (0.15.4)\n",
      "Requirement already satisfied: click>=5.1 in /home/bencomer/.local/lib/python3.7/site-packages/Click-7.0-py3.7.egg (from flask->ase->amp-atomistics) (7.0)\n",
      "Requirement already satisfied: itsdangerous>=0.24 in /home/bencomer/.local/lib/python3.7/site-packages/itsdangerous-1.1.0-py3.7.egg (from flask->ase->amp-atomistics) (1.1.0)\n",
      "Requirement already satisfied: MarkupSafe>=0.23 in /home/bencomer/.local/lib/python3.7/site-packages/MarkupSafe-1.1.1-py3.7-linux-x86_64.egg (from Jinja2>=2.10->flask->ase->amp-atomistics) (1.1.1)\n",
      "Requirement already satisfied: ase in /home/bencomer/anaconda3/lib/python3.7/site-packages (3.18.0)\n",
      "Requirement already satisfied: flask in /home/bencomer/.local/lib/python3.7/site-packages/Flask-1.0.3-py3.7.egg (from ase) (1.0.3)\n",
      "Requirement already satisfied: matplotlib in /home/bencomer/.local/lib/python3.7/site-packages/matplotlib-2.2.4-py3.7-linux-x86_64.egg (from ase) (2.2.4)\n",
      "Requirement already satisfied: scipy in /home/bencomer/anaconda3/lib/python3.7/site-packages (from ase) (1.3.0)\n",
      "Requirement already satisfied: numpy in /home/bencomer/anaconda3/lib/python3.7/site-packages (from ase) (1.16.4)\n",
      "Requirement already satisfied: Jinja2>=2.10 in /home/bencomer/.local/lib/python3.7/site-packages/Jinja2-2.10.1-py3.7.egg (from flask->ase) (2.10.1)\n",
      "Requirement already satisfied: Werkzeug>=0.14 in /home/bencomer/anaconda3/lib/python3.7/site-packages (from flask->ase) (0.15.4)\n",
      "Requirement already satisfied: click>=5.1 in /home/bencomer/.local/lib/python3.7/site-packages/Click-7.0-py3.7.egg (from flask->ase) (7.0)\n",
      "Requirement already satisfied: itsdangerous>=0.24 in /home/bencomer/.local/lib/python3.7/site-packages/itsdangerous-1.1.0-py3.7.egg (from flask->ase) (1.1.0)\n",
      "Requirement already satisfied: cycler>=0.10 in /home/bencomer/.local/lib/python3.7/site-packages/cycler-0.10.0-py3.7.egg (from matplotlib->ase) (0.10.0)\n",
      "Requirement already satisfied: kiwisolver>=1.0.1 in /home/bencomer/.local/lib/python3.7/site-packages/kiwisolver-1.1.0-py3.7-linux-x86_64.egg (from matplotlib->ase) (1.1.0)\n",
      "Requirement already satisfied: pyparsing!=2.0.4,!=2.1.2,!=2.1.6,>=2.0.1 in /home/bencomer/.local/lib/python3.7/site-packages/pyparsing-2.4.0-py3.7.egg (from matplotlib->ase) (2.4.0)\n",
      "Requirement already satisfied: python-dateutil>=2.1 in /home/bencomer/.local/lib/python3.7/site-packages/python_dateutil-2.8.0-py3.7.egg (from matplotlib->ase) (2.8.0)\n",
      "Requirement already satisfied: pytz in /home/bencomer/.local/lib/python3.7/site-packages/pytz-2019.1-py3.7.egg (from matplotlib->ase) (2019.1)\n",
      "Requirement already satisfied: six>=1.10 in /home/bencomer/anaconda3/lib/python3.7/site-packages (from matplotlib->ase) (1.12.0)\n",
      "Requirement already satisfied: MarkupSafe>=0.23 in /home/bencomer/.local/lib/python3.7/site-packages/MarkupSafe-1.1.1-py3.7-linux-x86_64.egg (from Jinja2>=2.10->flask->ase) (1.1.1)\n",
      "Requirement already satisfied: setuptools in /home/bencomer/anaconda3/lib/python3.7/site-packages (from kiwisolver>=1.0.1->matplotlib->ase) (41.0.1)\n"
     ]
    }
   ],
   "source": [
    "!pip install amp-atomistics\n",
    "!pip install ase"
   ]
  },
  {
   "cell_type": "code",
   "execution_count": 2,
   "metadata": {},
   "outputs": [],
   "source": [
    "from ase.build import molecule\n",
    "from ase.calculators.emt import EMT\n",
    "import numpy as np\n",
    "\n",
    "atoms = molecule('CO')\n",
    "atoms.set_calculator(EMT())\n",
    "\n",
    "distances = np.arange(-0.5,3,0.1)\n",
    "potential_energies = []\n",
    "\n",
    "\n",
    "for distance in distances:\n",
    "    atoms[0].position = [0,0,distance]\n",
    "    PE = atoms.get_potential_energy()\n",
    "    potential_energies.append(PE)"
   ]
  },
  {
   "cell_type": "code",
   "execution_count": 3,
   "metadata": {},
   "outputs": [
    {
     "data": {
      "text/plain": [
       "[<matplotlib.lines.Line2D at 0x7f35553a8dd8>]"
      ]
     },
     "execution_count": 3,
     "metadata": {},
     "output_type": "execute_result"
    },
    {
     "data": {
      "image/png": "[encoded data removed]",
      "text/plain": [
       "<Figure size 432x288 with 1 Axes>"
      ]
     },
     "metadata": {
      "needs_background": "light"
     },
     "output_type": "display_data"
    }
   ],
   "source": [
    "import matplotlib.pyplot as plt\n",
    "%matplotlib inline\n",
    "\n",
    "plt.plot(distances, potential_energies,'-o')"
   ]
  },
  {
   "cell_type": "markdown",
   "metadata": {},
   "source": [
    "the chemists and chemical engineers among you may recognize this...\n",
    "\n",
    "Now let's train a forcefield to replicate this. The code block below is just repeating what we did previously, but saving the images in a list to use as training data."
   ]
  },
  {
   "cell_type": "code",
   "execution_count": 4,
   "metadata": {},
   "outputs": [],
   "source": [
    "from ase.io.trajectory import TrajectoryWriter\n",
    "\n",
    "list_of_atoms = []\n",
    "list_of_energies = []\n",
    "tr = TrajectoryWriter('CO.traj')\n",
    "\n",
    "for distance in distances:\n",
    "    atoms = molecule('CO')\n",
    "    atoms.set_calculator(EMT())\n",
    "    atoms[0].position = [0,0,distance]\n",
    "    list_of_energies.append(atoms.get_potential_energy())\n",
    "    atoms.get_forces()\n",
    "    #tr.write(atoms)\n",
    "    list_of_atoms.append(atoms)\n"
   ]
  },
  {
   "cell_type": "markdown",
   "metadata": {},
   "source": [
    "Now let's train a neural net, we're going to use [amp](https://amp.readthedocs.io/en/latest/useamp.html) (but in the future you will use simple_nn)"
   ]
  },
  {
   "cell_type": "code",
   "execution_count": 5,
   "metadata": {},
   "outputs": [],
   "source": [
    "from amp import Amp"
   ]
  },
  {
   "cell_type": "markdown",
   "metadata": {},
   "source": [
    "## The Descriptors\n",
    "\n",
    "There are two kinds of descriptors: radial ($G_2$) and angular ($G_4$).\n",
    "\n",
    "$G_{2} = \\Sigma_{i \\neq j} exp(-\\eta (\\frac{R_{ij}}{R_{c}})^2)f_C(R_{ij})$\n",
    "\n",
    "For $G_2$ you can pick the value of $\\eta$, the fall off speed and $R_c$, the cutoff distance\n",
    "\n",
    "\n",
    "$G_{4} = 2^{1-\\zeta} \\Sigma_i\\Sigma_j\\Sigma_{k i \\neq j \\neq k} (1+\\gamma cos(\\Theta_{jik}))^{\\zeta}exp(-\\eta \\frac{R_{ij}^2 +R_{ik}^2+R_{jk}^2}{R_{c}^2}) f_C(R_{ij})f_c(R_{ij})f_c(R_{ik})f_c(R_{kj})$\n",
    "\n",
    "For $G_4$ you can pick $\\eta$, $\\zeta$, $\\gamma$, and $R_c$\n",
    "\n",
    "normally, you punt on the angular values and choose $\\gamma = -1,1$ and $\\zeta = 1,4$. Notice that this is a three body term\n",
    "\n",
    "the cutoff function is:\n",
    "\n",
    "$f_c(R_{ij}) = \\frac{1}{2}(1 + cos(\\pi \\frac{Rij}{Rc}))$\n",
    "\n"
   ]
  },
  {
   "cell_type": "code",
   "execution_count": 6,
   "metadata": {},
   "outputs": [
    {
     "name": "stdout",
     "output_type": "stream",
     "text": [
      "{'importname': '.descriptor.gaussian.Gaussian', 'mode': 'atom-centered', 'version': '2015.12', 'cutoff': {'name': 'Cosine', 'kwargs': {'Rc': 6.5}}, 'Gs': {'C': [{'type': 'G2', 'element': 'C', 'eta': 0.049999999999999996}, {'type': 'G2', 'element': 'O', 'eta': 0.049999999999999996}, {'type': 'G2', 'element': 'C', 'eta': 0.2320794416806389}, {'type': 'G2', 'element': 'O', 'eta': 0.2320794416806389}, {'type': 'G2', 'element': 'C', 'eta': 1.0772173450159415}, {'type': 'G2', 'element': 'O', 'eta': 1.0772173450159415}, {'type': 'G2', 'element': 'C', 'eta': 5.000000000000001}, {'type': 'G2', 'element': 'O', 'eta': 5.000000000000001}, {'type': 'G4', 'elements': ['C', 'C'], 'eta': 0.005, 'gamma': 1.0, 'zeta': 1.0}, {'type': 'G4', 'elements': ['C', 'O'], 'eta': 0.005, 'gamma': 1.0, 'zeta': 1.0}, {'type': 'G4', 'elements': ['O', 'O'], 'eta': 0.005, 'gamma': 1.0, 'zeta': 1.0}, {'type': 'G4', 'elements': ['C', 'C'], 'eta': 0.005, 'gamma': -1.0, 'zeta': 1.0}, {'type': 'G4', 'elements': ['C', 'O'], 'eta': 0.005, 'gamma': -1.0, 'zeta': 1.0}, {'type': 'G4', 'elements': ['O', 'O'], 'eta': 0.005, 'gamma': -1.0, 'zeta': 1.0}, {'type': 'G4', 'elements': ['C', 'C'], 'eta': 0.005, 'gamma': 1.0, 'zeta': 4.0}, {'type': 'G4', 'elements': ['C', 'O'], 'eta': 0.005, 'gamma': 1.0, 'zeta': 4.0}, {'type': 'G4', 'elements': ['O', 'O'], 'eta': 0.005, 'gamma': 1.0, 'zeta': 4.0}, {'type': 'G4', 'elements': ['C', 'C'], 'eta': 0.005, 'gamma': -1.0, 'zeta': 4.0}, {'type': 'G4', 'elements': ['C', 'O'], 'eta': 0.005, 'gamma': -1.0, 'zeta': 4.0}, {'type': 'G4', 'elements': ['O', 'O'], 'eta': 0.005, 'gamma': -1.0, 'zeta': 4.0}], 'O': [{'type': 'G2', 'element': 'C', 'eta': 0.049999999999999996}, {'type': 'G2', 'element': 'O', 'eta': 0.049999999999999996}, {'type': 'G2', 'element': 'C', 'eta': 0.2320794416806389}, {'type': 'G2', 'element': 'O', 'eta': 0.2320794416806389}, {'type': 'G2', 'element': 'C', 'eta': 1.0772173450159415}, {'type': 'G2', 'element': 'O', 'eta': 1.0772173450159415}, {'type': 'G2', 'element': 'C', 'eta': 5.000000000000001}, {'type': 'G2', 'element': 'O', 'eta': 5.000000000000001}, {'type': 'G4', 'elements': ['C', 'C'], 'eta': 0.005, 'gamma': 1.0, 'zeta': 1.0}, {'type': 'G4', 'elements': ['C', 'O'], 'eta': 0.005, 'gamma': 1.0, 'zeta': 1.0}, {'type': 'G4', 'elements': ['O', 'O'], 'eta': 0.005, 'gamma': 1.0, 'zeta': 1.0}, {'type': 'G4', 'elements': ['C', 'C'], 'eta': 0.005, 'gamma': -1.0, 'zeta': 1.0}, {'type': 'G4', 'elements': ['C', 'O'], 'eta': 0.005, 'gamma': -1.0, 'zeta': 1.0}, {'type': 'G4', 'elements': ['O', 'O'], 'eta': 0.005, 'gamma': -1.0, 'zeta': 1.0}, {'type': 'G4', 'elements': ['C', 'C'], 'eta': 0.005, 'gamma': 1.0, 'zeta': 4.0}, {'type': 'G4', 'elements': ['C', 'O'], 'eta': 0.005, 'gamma': 1.0, 'zeta': 4.0}, {'type': 'G4', 'elements': ['O', 'O'], 'eta': 0.005, 'gamma': 1.0, 'zeta': 4.0}, {'type': 'G4', 'elements': ['C', 'C'], 'eta': 0.005, 'gamma': -1.0, 'zeta': 4.0}, {'type': 'G4', 'elements': ['C', 'O'], 'eta': 0.005, 'gamma': -1.0, 'zeta': 4.0}, {'type': 'G4', 'elements': ['O', 'O'], 'eta': 0.005, 'gamma': -1.0, 'zeta': 4.0}]}, 'elements': ['C', 'O']}\n"
     ]
    }
   ],
   "source": [
    "from amp.descriptor.gaussian import Gaussian\n",
    "from amp.utilities import hash_images\n",
    "\n",
    "hashes = hash_images(list_of_atoms)\n",
    "descriptor = Gaussian() #defaults\n",
    "descriptor.calculate_fingerprints(hashes)\n",
    "print(descriptor.parameters)"
   ]
  },
  {
   "cell_type": "code",
   "execution_count": 7,
   "metadata": {},
   "outputs": [
    {
     "data": {
      "text/plain": [
       "[('O',\n",
       "  [0.8942579161578427,\n",
       "   0.0,\n",
       "   0.8871857996999152,\n",
       "   0.0,\n",
       "   0.8550852247863622,\n",
       "   0.0,\n",
       "   0.7206426127482876,\n",
       "   0.0,\n",
       "   0.0,\n",
       "   0.0,\n",
       "   0.0,\n",
       "   0.0,\n",
       "   0.0,\n",
       "   0.0,\n",
       "   0.0,\n",
       "   0.0,\n",
       "   0.0,\n",
       "   0.0,\n",
       "   0.0,\n",
       "   0.0]),\n",
       " ('C',\n",
       "  [0.0,\n",
       "   0.8942579161578427,\n",
       "   0.0,\n",
       "   0.8871857996999152,\n",
       "   0.0,\n",
       "   0.8550852247863622,\n",
       "   0.0,\n",
       "   0.7206426127482876,\n",
       "   0.0,\n",
       "   0.0,\n",
       "   0.0,\n",
       "   0.0,\n",
       "   0.0,\n",
       "   0.0,\n",
       "   0.0,\n",
       "   0.0,\n",
       "   0.0,\n",
       "   0.0,\n",
       "   0.0,\n",
       "   0.0])]"
      ]
     },
     "execution_count": 7,
     "metadata": {},
     "output_type": "execute_result"
    }
   ],
   "source": [
    "descriptor.fingerprints['96d61608e3336dd3b0083e0d10d54f5e']"
   ]
  },
  {
   "cell_type": "markdown",
   "metadata": {},
   "source": [
    "# The Model\n",
    "\n",
    "we're going to use a neural network"
   ]
  },
  {
   "cell_type": "code",
   "execution_count": 8,
   "metadata": {},
   "outputs": [],
   "source": [
    "from amp.model.neuralnetwork import NeuralNetwork"
   ]
  },
  {
   "cell_type": "code",
   "execution_count": 9,
   "metadata": {},
   "outputs": [],
   "source": [
    "model = NeuralNetwork(hiddenlayers=(5, 5), activation='tanh')"
   ]
  },
  {
   "cell_type": "code",
   "execution_count": 10,
   "metadata": {},
   "outputs": [],
   "source": [
    "from amp import Amp\n",
    "\n",
    "calc = Amp(descriptor=descriptor, model=model,\n",
    "           label='calc')\n",
    "calc.train(images=list_of_atoms)"
   ]
  },
  {
   "cell_type": "code",
   "execution_count": 14,
   "metadata": {},
   "outputs": [
    {
     "data": {
      "text/plain": [
       "[<matplotlib.lines.Line2D at 0x7f355187bf60>]"
      ]
     },
     "execution_count": 14,
     "metadata": {},
     "output_type": "execute_result"
    },
    {
     "data": {
      "image/png": "[encoded data removed]",
      "text/plain": [
       "<Figure size 432x288 with 1 Axes>"
      ]
     },
     "metadata": {
      "needs_background": "light"
     },
     "output_type": "display_data"
    }
   ],
   "source": [
    "calc = Amp.load('calc.amp')\n",
    "atoms = molecule('CO')\n",
    "atoms.set_calculator(calc)\n",
    "\n",
    "distances = np.arange(-0.5,10,0.1)\n",
    "NN_potential_energies = []\n",
    "\n",
    "\n",
    "for distance in distances:\n",
    "    atoms[0].position = [0,0,distance]\n",
    "    PE = atoms.get_potential_energy()\n",
    "    NN_potential_energies.append(PE)\n",
    "\n",
    "plt.plot(distances, NN_potential_energies,'-')"
   ]
  },
  {
   "cell_type": "markdown",
   "metadata": {},
   "source": [
    "# The Parity Plot\n",
    "\n",
    "We want to see how close our predictions are to the correct answer"
   ]
  },
  {
   "cell_type": "code",
   "execution_count": 12,
   "metadata": {},
   "outputs": [
    {
     "data": {
      "text/plain": [
       "[<matplotlib.lines.Line2D at 0x7f3551898908>]"
      ]
     },
     "execution_count": 12,
     "metadata": {},
     "output_type": "execute_result"
    },
    {
     "data": {
      "image/png": "[encoded data removed]",
      "text/plain": [
       "<Figure size 432x288 with 1 Axes>"
      ]
     },
     "metadata": {
      "needs_background": "light"
     },
     "output_type": "display_data"
    }
   ],
   "source": [
    "plt.scatter(list_of_energies, NN_potential_energies)\n",
    "\n",
    "plt.plot(min(list_of_energies), )\n",
    "plt.ylabel('NN Predicted Energy')\n",
    "plt.xlabel('EMT Energy')\n",
    "\n",
    "# make the parity line\n",
    "combined = list_of_energies + NN_potential_energies\n",
    "minumum = min(combined)\n",
    "maximum = max(combined)\n",
    "plt.plot([minumum, maximum],[minumum, maximum])"
   ]
  },
  {
   "cell_type": "markdown",
   "metadata": {},
   "source": [
    "# Error Metric\n",
    "\n",
    "there are many error metrics, here we will look at the root mean square error (RMSE):\n",
    "\n",
    "$L_{RMSE} = \\sqrt{\\frac{1}{n}\\Sigma_{i=1}^n (E-E_{pred})^2}$"
   ]
  },
  {
   "cell_type": "code",
   "execution_count": 13,
   "metadata": {},
   "outputs": [
    {
     "name": "stdout",
     "output_type": "stream",
     "text": [
      "0.001977268730990049\n"
     ]
    }
   ],
   "source": [
    "sse = [(a - b) ** 2 for a, b in zip(list_of_energies, NN_potential_energies)]\n",
    "mse = np.mean(sse)\n",
    "rmse = np.sqrt(mse)\n",
    "print(rmse)"
   ]
  },
  {
   "cell_type": "code",
   "execution_count": 15,
   "metadata": {},
   "outputs": [],
   "source": [
    "from amp import Amp\n",
    "from ase.io import read\n",
    "\n",
    "distances = np.arange(-0.5,2,0.1)\n",
    "angles = np.arange(103,180, 2)\n",
    "list_of_waters = []\n",
    "water_energies = []\n",
    "\n",
    "\n",
    "for distance in distances:\n",
    "    for angle in angles:\n",
    "        atoms = molecule('H2O')\n",
    "        atoms.set_angle(1, 0, 2, angle)\n",
    "        atoms.set_distance(0, 1,distance, fix=0)\n",
    "        atoms.set_calculator(EMT())\n",
    "        water_energies.append(atoms.get_potential_energy())\n",
    "        atoms.get_forces()\n",
    "        list_of_waters.append(atoms)\n",
    "\n",
    "calc = Amp(descriptor=Gaussian(), model=NeuralNetwork(),\n",
    "           label='calc2')\n",
    "calc.model.lossfunction.parameters['convergence'].update(\n",
    "    {'energy_rmse': 0.05,})\n",
    "calc.train(images=list_of_waters)"
   ]
  },
  {
   "cell_type": "code",
   "execution_count": null,
   "metadata": {},
   "outputs": [],
   "source": []
  }
 ],
 "metadata": {
  "kernelspec": {
   "display_name": "Python 3",
   "language": "python",
   "name": "python3"
  },
  "language_info": {
   "codemirror_mode": {
    "name": "ipython",
    "version": 3
   },
   "file_extension": ".py",
   "mimetype": "text/x-python",
   "name": "python",
   "nbconvert_exporter": "python",
   "pygments_lexer": "ipython3",
   "version": "3.7.3"
  }
 },
 "nbformat": 4,
 "nbformat_minor": 2
}
