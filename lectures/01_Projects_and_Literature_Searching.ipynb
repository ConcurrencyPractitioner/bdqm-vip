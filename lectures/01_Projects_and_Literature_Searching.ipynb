{
 "cells": [
  {
   "cell_type": "markdown",
   "metadata": {},
   "source": [
    "# Basics of Searching and Reading Scientific Literature"
   ]
  },
  {
   "cell_type": "markdown",
   "metadata": {},
   "source": [
    "## Available Projects:\n",
    "\n",
    "### Data Generation:\n",
    "\n",
    "You will be provided with some example input scripts for performing DFT calculations of a chemical system. You will need to modify the script by adding/removing/changing atoms in various ways and re-running the calculations to generate new data. You will record the results and the locations of the calculations which will be used for various projects in the group.\n",
    "\n",
    "#### Biomass Molecule Adsorption:\n",
    "\n",
    "Advisor: Chaoyi Chang\n",
    "Lead Student: Matthew Hester\n",
    "\n",
    "#### p-block Dopants for Nitrogen Fixation:\n",
    "\n",
    "Advisor: Ben Comer\n",
    "\n",
    "#### SPARC development:\n",
    "\n",
    "Advisor: Ray Lei\n",
    "Lead Student: Jon Gaul\n",
    "\n",
    "### Machine Learning:\n",
    "\n",
    "You will be provided with a set of data corresponding to the inputs (atomic structures) and outputs (energies and forces) for a set of atomistic simulations. Your task will be to use existing software packages to i) vectorize the atomic structures using various strategies and 2) train a neural network model to predict the energies and forces given a new atomic structure. You will be provided with an initial script and the current best model, and your goal is to modify the hyper-parameters of the vectorization and neural network training to improve the accuracy of the machine learning model.\n",
    "\n",
    "#### Water molecular dynamics\n",
    "\n",
    "Advisor: Ben Comer\n",
    "\n",
    "![Water MD](images/water_MD.gif \"Water MD\")\n",
    "\n",
    "#### Water/Iron interface dynamics\n",
    "\n",
    "Advisor: Ben Comer\n",
    "\n",
    "![Iron_Water MD](images/Fe_interface.gif \"Iron MD\")"
   ]
  },
  {
   "cell_type": "code",
   "execution_count": null,
   "metadata": {
    "collapsed": true
   },
   "outputs": [],
   "source": []
  }
 ],
 "metadata": {
  "kernelspec": {
   "display_name": "Python 3",
   "language": "python",
   "name": "python3"
  }
 },
 "nbformat": 4,
 "nbformat_minor": 2
}
