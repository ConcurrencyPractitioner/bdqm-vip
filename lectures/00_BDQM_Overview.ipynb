{
 "cells": [
  {
   "cell_type": "markdown",
   "metadata": {
    "toc": true
   },
   "source": [
    "<h1>Table of Contents<span class=\"tocSkip\"></span></h1>\n",
    "<div class=\"toc\"><ul class=\"toc-item\"><li><span><a href=\"#About-Prof.-AJ-Medford\" data-toc-modified-id=\"About-Prof.-AJ-Medford-1\"><span class=\"toc-item-num\">1&nbsp;&nbsp;</span>About Prof. AJ Medford</a></span></li><li><span><a href=\"#Introductions\" data-toc-modified-id=\"Introductions-2\"><span class=\"toc-item-num\">2&nbsp;&nbsp;</span>Introductions</a></span><ul class=\"toc-item\"><li><span><a href=\"#Examples-of-interesting-things\" data-toc-modified-id=\"Examples-of-interesting-things-2.1\"><span class=\"toc-item-num\">2.1&nbsp;&nbsp;</span>Examples of interesting things</a></span></li></ul></li><li><span><a href=\"#How-does-VIP-work?\" data-toc-modified-id=\"How-does-VIP-work?-3\"><span class=\"toc-item-num\">3&nbsp;&nbsp;</span>How does VIP work?</a></span></li><li><span><a href=\"#How-is-VIP-graded?\" data-toc-modified-id=\"How-is-VIP-graded?-4\"><span class=\"toc-item-num\">4&nbsp;&nbsp;</span>How is VIP graded?</a></span></li><li><span><a href=\"#VIP-is-not-like-a-regular-course\" data-toc-modified-id=\"VIP-is-not-like-a-regular-course-5\"><span class=\"toc-item-num\">5&nbsp;&nbsp;</span>VIP is not like a regular course</a></span></li><li><span><a href=\"#Group-Communication:\" data-toc-modified-id=\"Group-Communication:-6\"><span class=\"toc-item-num\">6&nbsp;&nbsp;</span>Group Communication:</a></span></li><li><span><a href=\"#Team-Structure-:-New-Students\" data-toc-modified-id=\"Team-Structure-:-New-Students-7\"><span class=\"toc-item-num\">7&nbsp;&nbsp;</span>Team Structure : New Students</a></span></li><li><span><a href=\"#Team-Structure:-Returning-Students-and-OMSCS-Students\" data-toc-modified-id=\"Team-Structure:-Returning-Students-and-OMSCS-Students-8\"><span class=\"toc-item-num\">8&nbsp;&nbsp;</span>Team Structure: Returning Students and OMSCS Students</a></span></li><li><span><a href=\"#Determining-Projects\" data-toc-modified-id=\"Determining-Projects-9\"><span class=\"toc-item-num\">9&nbsp;&nbsp;</span>Determining Projects</a></span></li><li><span><a href=\"#Team-selection-and-goals\" data-toc-modified-id=\"Team-selection-and-goals-10\"><span class=\"toc-item-num\">10&nbsp;&nbsp;</span>Team selection and goals</a></span></li><li><span><a href=\"#Standard-meeting-format\" data-toc-modified-id=\"Standard-meeting-format-11\"><span class=\"toc-item-num\">11&nbsp;&nbsp;</span>Standard meeting format</a></span></li><li><span><a href=\"#Week-1-Assignment\" data-toc-modified-id=\"Week-1-Assignment-12\"><span class=\"toc-item-num\">12&nbsp;&nbsp;</span>Week 1 Assignment</a></span></li><li><span><a href=\"#Software-Installation:\" data-toc-modified-id=\"Software-Installation:-13\"><span class=\"toc-item-num\">13&nbsp;&nbsp;</span>Software Installation:</a></span><ul class=\"toc-item\"><li><span><a href=\"#Install-Anaconda3\" data-toc-modified-id=\"Install-Anaconda3-13.1\"><span class=\"toc-item-num\">13.1&nbsp;&nbsp;</span>Install Anaconda3</a></span></li><li><span><a href=\"#Ensure-you-can-access-a-linux/unix-prompt\" data-toc-modified-id=\"Ensure-you-can-access-a-linux/unix-prompt-13.2\"><span class=\"toc-item-num\">13.2&nbsp;&nbsp;</span>Ensure you can access a linux/unix prompt</a></span><ul class=\"toc-item\"><li><span><a href=\"#Windows-users:\" data-toc-modified-id=\"Windows-users:-13.2.1\"><span class=\"toc-item-num\">13.2.1&nbsp;&nbsp;</span>Windows users:</a></span></li><li><span><a href=\"#Mac-users:\" data-toc-modified-id=\"Mac-users:-13.2.2\"><span class=\"toc-item-num\">13.2.2&nbsp;&nbsp;</span>Mac users:</a></span></li></ul></li></ul></li></ul></div>"
   ]
  },
  {
   "cell_type": "markdown",
   "metadata": {},
   "source": [
    "# Big Data & Quantum Mechanics\n",
    " \n",
    "\n",
    "## Overview of Medford Group research\n",
    "\n",
    "<img src=\"images/medford_group_bg.png\">\n",
    "\n"
   ]
  },
  {
   "cell_type": "markdown",
   "metadata": {},
   "source": [
    "## About Prof. AJ Medford\n",
    "\n",
    "- Started as a professor (and this VIP course) in Spring 2017.\n",
    "- Experience in developing and contributing to several open-source software packages (CatMAP, ElectroLens, TAPSolver, SPARC, AMPTorch)\n",
    "- Instructor for \"Data Analytics for Chemical Engineers\" and Numerical Methods.\n",
    "- Interest in applying data science techniques to problems in quantum chemistry and physics.\n",
    "\n",
    "### Co-instructor: Prof. Phanish Suryanarayana\n",
    "\n",
    "- Lead developer of SPARC DFT code\n",
    "- Expert in electronic structure theory and numerical methods"
   ]
  },
  {
   "cell_type": "markdown",
   "metadata": {},
   "source": [
    "## Introductions\n",
    "\n",
    "We will go around the class and introduce ourselves to the everyone. When it is your turn to speak, tell everyone your *preferred name, major, and something **boring** about yourself*."
   ]
  },
  {
   "cell_type": "markdown",
   "metadata": {},
   "source": [
    "## How does VIP work?\n",
    "\n",
    "The premise of VIP is teams working on projects. Much like a real-world engineering team, individual members work on different aspects of the project. Team members range from sophomores through graduate students, from first-time participants to students who have been involved for four or more semesters. Some students take the course for one credit, and others take it for two credits; naturally, the bar will be higher for those taking it for two credits."
   ]
  },
  {
   "cell_type": "markdown",
   "metadata": {},
   "source": [
    "## How is VIP graded?\n",
    "\n",
    "You will receive a grade for the course based on three criteria:\n",
    "\n",
    "- Documentation (33.3%): Based on biweekly updates of progress on tasks.\n",
    "- Personal Accomplishments (33.3%): Based on how well you achieve your research goals.\n",
    "- Teamwork and Participation (33.3%): Peer evaluations will be used to establish how well you work on a team.\n",
    "\n",
    "Grading process:\n",
    "- Bi-weekly on Thursday: Submit \"bi-weekly update\" and literature review to Canvas. Complete peer grading (instructions in syllabus).\n",
    "\n",
    "- Midterm: Submit personal accomplishment documentation to Canvas. Complete peer evaluations. Complete peer grading. Grade is *advisory*.\n",
    "\n",
    "- Final: Identical to midterm, but grade is *final*\n",
    "\n",
    "The following deliverables are expected at the midterm and final evaluations. Note that the \"personal accomplishment\" documentation will be graded using a combination of peer grading and instructor grading, so you will also need to complete the peer grading at each point.\n",
    "\n",
    "- Deliverables: \n",
    "    - Compiled bi-weekly update\n",
    "    - Personal accomplishment documentation\n",
    "    - Peer grading\n",
    "    - Peer evaluation\n",
    "\n",
    "See [syllabus](https://github.com/medford-group/bdqm-vip/blob/master/syllabus.md) for more details."
   ]
  },
  {
   "cell_type": "markdown",
   "metadata": {},
   "source": [
    "## VIP is not like a regular course \n",
    "\n",
    "Regular courses have a clear direction:\n",
    "\n",
    "<img src=\"images/mario.png\">\n",
    "\n",
    "VIP lets you choose your own adventure:\n",
    "\n",
    "<img src=\"images/zelda.jpeg\">\n"
   ]
  },
  {
   "cell_type": "markdown",
   "metadata": {},
   "source": [
    "## Group Communication:\n",
    "\n",
    "- Slack group used for all communication, join using [this link](https://join.slack.com/t/medfordgroup/shared_invite/enQtNzI2NTcxNTMyNzIxLTdlNDQ3OTE0YjcxOWYyNTQxNDZiZjFjNmIwMzRlYWVhYWY5NWY2MjFkYTAwNzA1YTM1ZDM4ZTAzMDRlNGI1ZDE)\n",
    "\t- vip: all VIP students should join. Official announcements will be posted here.\n",
    "\t- training: discussion related to training project.\n",
    "\t- general: channel for general discussions with the whole group.\n",
    "    \n",
    " "
   ]
  },
  {
   "cell_type": "markdown",
   "metadata": {},
   "source": [
    "## Team Structure : New Students\n",
    "\n",
    "- Complete a training project involving DFT adsorption energy calculation and neural network training.\n",
    "- Training project goals document [available here](https://github.com/medford-group/bdqm-vip/blob/master/project_descriptions/training.md).\n",
    "\n",
    "New students will form 3 sub-teams of 4-5. You are encouraged to ask returning members for tips, documentation, and resources on how to complete this excercise. If you complete the training goals by the end of the semester you can join the sub-team of your choice."
   ]
  },
  {
   "cell_type": "markdown",
   "metadata": {},
   "source": [
    "## Team Structure: Returning Students and OMSCS Students\n",
    "\n",
    "- Returning students select sub-teams based on projects emerging from last semester\n",
    "- OMSCS students can decide whether to complete the training exercises or join a specific team (or both)\n",
    "- Three types of projects: \n",
    "    * data generation: application of quantum-mechanical simulations\n",
    "    * machine learning: training models using big datasets generated from quantum mechanics\n",
    "    * infrastructure: developing software tools for research in big data and quantum mechanics\n",
    "- Project descriptions are [available here](https://github.com/medford-group/bdqm-vip/tree/master/project_descriptions).\n",
    "    * Students may revise project goals, or create their own projects. Consult with instructors within the first week if you are interested.\n",
    "    "
   ]
  },
  {
   "cell_type": "markdown",
   "metadata": {},
   "source": [
    "## Determining Projects\n",
    "\n",
    "* Applications:\n",
    "   - Discovery and understanding of catalysts for photocatalytic nitrogen fixation\n",
    "* Methods:\n",
    "   - Hyper-parameter optimization of neural networks for atomistic machine learning\n",
    "   - Optimization of nearest-neighbor sub-sampling implementation (also AMPTorch infrastruture)\n",
    "* Infrastructure:\n",
    "   - Improvement of Python API for SPARC DFT code (written in C)\n",
    "   - Development of website for pseudopotentials developed for SPARC"
   ]
  },
  {
   "cell_type": "markdown",
   "metadata": {},
   "source": [
    "## Team selection and goals\n",
    "\n",
    "Teams and goals must be finalized by week 3. Teams should have 2-5 people and a self-selected leader. Returning students will be assigned as leaders by default where applicable.\n",
    "\n",
    "Continuing teams: The team leader is responsible for determining the team goals for the semester. If you choose to revise your midterm goals, the revised goals are due by the end of week 3.\n",
    "\n",
    "New teams: A set of suggested goals will be provided. These may be revised as needed.\n",
    "\n",
    "Notes on goals:\n",
    "\n",
    "- Goals can be revised after midterms, so don't stress about the initial goals. The main thing is that you have a plan for how to get started.\n",
    "\n",
    "- Individuals can revise the goals to be more specific and individual (e.g. divide team goals into member-specific tasks). If goals are not revised then each student will be responsible for team goals."
   ]
  },
  {
   "cell_type": "markdown",
   "metadata": {},
   "source": [
    "## Standard meeting format\n",
    "\n",
    "Subsequent meetings will follow one of three formats. We will start each meeting virtually in this BlueJeans room regardless of the format.\n",
    "\n",
    "* Flipped class meetings: A lecture video will be posted at least 2 days prior to the lecture. All training students should plan on watching the video prior to the class meeting time. The class meeting time will then be used for discussion of the lecture materials (training group), or as a time to meet with your sub-group. The main lecture will be used to briefly discuss logistics before breaking into sub-groups. Sub-groups where all (or some) of the students are on campus may elect to meet in person or in a hybrid mode based on the preference of group members.\n",
    "\n",
    "\n",
    "* Update meetings: For midterm and final updates, each team will post a 10-15 minute update presentation to Canvas, and each student will be assigned 3 update presentations to watch and provide peer reviews before class. During the class time, all students are expected to be present, and we will go through each group to field questions and discuss their work. Any remaining time will be used for sub-group meetings. \n",
    "\n",
    "\n",
    "* Workshops: No official lecture video to watch beforehand. The entire lecture will be used as unstructured time to work on projects and interact with mentors and instructors.\n",
    "\n",
    "**Note:** If no member of your sub-team is present for the synchronous lecture, then everyone from the group will lose 1/2 point (out of 5) from the documentation grade. If you cannot attend during your update please confirm with an instructor at least 24 hours ahead of time."
   ]
  },
  {
   "cell_type": "markdown",
   "metadata": {},
   "source": [
    "## Lecture schedule and syllabus\n",
    "\n",
    "The course [syllabus](https://github.com/medford-group/bdqm-vip/blob/master/syllabus.md) is available via Github, and includes a list of all the lecture topics and dates. Lecture videos will be posted to the \"Media Gallery\" on the course Canvas page."
   ]
  },
  {
   "cell_type": "markdown",
   "metadata": {},
   "source": [
    "## Week 1 Assignment\n",
    "\n",
    "- Join the [Slack channel](https://join.slack.com/t/medfordgroup/shared_invite/enQtNzI2NTcxNTMyNzIxLTdlNDQ3OTE0YjcxOWYyNTQxNDZiZjFjNmIwMzRlYWVhYWY5NWY2MjFkYTAwNzA1YTM1ZDM4ZTAzMDRlNGI1ZDE)\n",
    "- Start discussion for selecting your group or sub-team project\n",
    "- Install necessary software following instructions below."
   ]
  },
  {
   "cell_type": "markdown",
   "metadata": {},
   "source": [
    "## Software Installation:\n",
    "\n",
    "### Install Anaconda3\n",
    "\n",
    "We'll be using Python3 and Jupyter notebooks extenstively in this class. To access this easily, we'll need to install anaconda3. To do that, go to the anaconda website below and simply follow the buttons to download and install it (ensure that you're downloading the correct version for your operating system.)\n",
    "\n",
    "https://www.anaconda.com/distribution/\n",
    "\n",
    "### Ensure you can access a linux/unix prompt\n",
    "\n",
    "#### Windows users:\n",
    "Please install the windows ubuntu subsystem using these instructions:\n",
    "\n",
    "https://docs.microsoft.com/en-us/windows/wsl/install-win10\n",
    "\n",
    "#### Mac users:\n",
    "Be sure you can open a [terminal](https://www.youtube.com/watch?v=zw7Nd67_aFw)"
   ]
  }
 ],
 "metadata": {
  "kernelspec": {
   "display_name": "Python 3",
   "language": "python",
   "name": "python3"
  },
  "language_info": {
   "codemirror_mode": {
    "name": "ipython",
    "version": 3
   },
   "file_extension": ".py",
   "mimetype": "text/x-python",
   "name": "python",
   "nbconvert_exporter": "python",
   "pygments_lexer": "ipython3",
   "version": "3.8.8"
  },
  "toc": {
   "base_numbering": 1,
   "nav_menu": {},
   "number_sections": true,
   "sideBar": true,
   "skip_h1_title": true,
   "title_cell": "Table of Contents",
   "title_sidebar": "Contents",
   "toc_cell": true,
   "toc_position": {},
   "toc_section_display": true,
   "toc_window_display": false
  }
 },
 "nbformat": 4,
 "nbformat_minor": 4
}
