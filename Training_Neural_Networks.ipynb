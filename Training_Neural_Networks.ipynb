{
 "cells": [
  {
   "cell_type": "markdown",
   "metadata": {},
   "source": [
    "# Neural Network Force Fields\n",
    "\n",
    "A lot of what we do in our group involves the use of what are called \"neural network forcefields.\" These are basically energy and force calculators that are just neural networks that have been trained against some data (be it quantum mechanical/classical/semi-empircal/ect...) It is trained to recreate the potential energy surface\n",
    "\n",
    "This is little strange, but it will make sense in a second."
   ]
  },
  {
   "cell_type": "code",
   "execution_count": 53,
   "metadata": {},
   "outputs": [],
   "source": [
    "from ase.build import molecule\n",
    "from ase.calculators.emt import EMT\n",
    "import numpy as np\n",
    "\n",
    "atoms = molecule('CO')\n",
    "atoms.set_calculator(EMT())\n",
    "\n",
    "distances = np.arange(-0.5,3,0.1)\n",
    "potential_energies = []\n",
    "\n",
    "\n",
    "for distance in distances:\n",
    "    atoms[0].position = [0,0,distance]\n",
    "    PE = atoms.get_potential_energy()\n",
    "    potential_energies.append(PE)"
   ]
  },
  {
   "cell_type": "code",
   "execution_count": 54,
   "metadata": {},
   "outputs": [
    {
     "name": "stderr",
     "output_type": "stream",
     "text": [
      "Exception ignored in: <function Data.__del__ at 0x7f961392cd08>\n",
      "Traceback (most recent call last):\n",
      "  File \"/home/medford/anaconda3/lib/python3.7/site-packages/amp/utilities.py\", line 498, in __del__\n",
      "    self.close()\n",
      "  File \"/home/medford/anaconda3/lib/python3.7/site-packages/amp/utilities.py\", line 487, in close\n",
      "    if self.d:\n",
      "  File \"/home/medford/anaconda3/lib/python3.7/site-packages/amp/utilities.py\", line 313, in __len__\n",
      "    return len(self.keys())\n",
      "  File \"/home/medford/anaconda3/lib/python3.7/site-packages/amp/utilities.py\", line 299, in keys\n",
      "    keys = os.listdir(self.loosepath)\n",
      "FileNotFoundError: [Errno 2] No such file or directory: 'amp-fingerprint-primes.ampdb/loose'\n"
     ]
    },
    {
     "data": {
      "text/plain": [
       "[<matplotlib.lines.Line2D at 0x7f95f9209748>]"
      ]
     },
     "execution_count": 54,
     "metadata": {},
     "output_type": "execute_result"
    },
    {
     "data": {
      "image/png": "[encoded data removed]",
      "text/plain": [
       "<Figure size 432x288 with 1 Axes>"
      ]
     },
     "metadata": {
      "needs_background": "light"
     },
     "output_type": "display_data"
    }
   ],
   "source": [
    "import matplotlib.pyplot as plt\n",
    "%matplotlib inline\n",
    "\n",
    "plt.plot(distances, potential_energies,'-o')"
   ]
  },
  {
   "cell_type": "markdown",
   "metadata": {},
   "source": [
    "the chemists and chemical engineers among you may recognize this...\n",
    "\n",
    "Now let's train a forcefield to replicate this. The code block below is just repeating what we did previously, but saving the images in a list to use as training data."
   ]
  },
  {
   "cell_type": "code",
   "execution_count": 55,
   "metadata": {},
   "outputs": [],
   "source": [
    "from ase.io.trajectory import TrajectoryWriter\n",
    "\n",
    "list_of_atoms = []\n",
    "tr = TrajectoryWriter('CO.traj')\n",
    "\n",
    "for distance in distances:\n",
    "    atoms = molecule('CO')\n",
    "    atoms.set_calculator(EMT())\n",
    "    atoms[0].position = [0,0,distance]\n",
    "    atoms.get_potential_energy()\n",
    "    atoms.get_forces()\n",
    "    #tr.write(atoms)\n",
    "    list_of_atoms.append(atoms)\n"
   ]
  },
  {
   "cell_type": "markdown",
   "metadata": {},
   "source": [
    "Now let's train a neural net"
   ]
  },
  {
   "cell_type": "code",
   "execution_count": 56,
   "metadata": {},
   "outputs": [],
   "source": [
    "from amp import Amp\n",
    "from amp.descriptor.gaussian import Gaussian\n",
    "from amp.model.neuralnetwork import NeuralNetwork\n",
    "from ase.io import read\n",
    "\n",
    "\n",
    "calc = Amp(descriptor=Gaussian(), model = NeuralNetwork(),\n",
    "           label='calc')\n",
    "calc.train(images=list_of_atoms)"
   ]
  },
  {
   "cell_type": "code",
   "execution_count": 57,
   "metadata": {},
   "outputs": [
    {
     "data": {
      "text/plain": [
       "[<matplotlib.lines.Line2D at 0x7f95f9a75860>]"
      ]
     },
     "execution_count": 57,
     "metadata": {},
     "output_type": "execute_result"
    },
    {
     "data": {
      "image/png": "[encoded data removed]",
      "text/plain": [
       "<Figure size 432x288 with 1 Axes>"
      ]
     },
     "metadata": {
      "needs_background": "light"
     },
     "output_type": "display_data"
    }
   ],
   "source": [
    "calc = Amp.load('calc.amp')\n",
    "atoms = molecule('CO')\n",
    "atoms.set_calculator(calc)\n",
    "\n",
    "distances = np.arange(-0.5,6,0.01)\n",
    "NN_potential_energies = []\n",
    "\n",
    "\n",
    "for distance in distances:\n",
    "    atoms[0].position = [0,0,distance]\n",
    "    PE = atoms.get_potential_energy()\n",
    "    NN_potential_energies.append(PE)\n",
    "\n",
    "plt.plot(distances, NN_potential_energies,'-')"
   ]
  },
  {
   "cell_type": "markdown",
   "metadata": {},
   "source": [
    "Seems pretty simple, the neural network is really just learning a 1d function let's do something more complicated."
   ]
  },
  {
   "cell_type": "code",
   "execution_count": null,
   "metadata": {},
   "outputs": [],
   "source": []
  }
 ],
 "metadata": {
  "kernelspec": {
   "display_name": "Python 3",
   "language": "python",
   "name": "python3"
  },
  "language_info": {
   "codemirror_mode": {
    "name": "ipython",
    "version": 3
   },
   "file_extension": ".py",
   "mimetype": "text/x-python",
   "name": "python",
   "nbconvert_exporter": "python",
   "pygments_lexer": "ipython3",
   "version": "3.7.2"
  }
 },
 "nbformat": 4,
 "nbformat_minor": 2
}
