{
 "cells": [
  {
   "cell_type": "markdown",
   "metadata": {},
   "source": [
    "# Adsorption Energies\n",
    "\n",
    "Adsorption energies are the core of computational catalysis and surface science because they provide fundamental information about how a molecular intermediate interacts with a catalyst surface. Computational approaches are particularly valuable for adsorption energies because they are exceedingly difficult to measure experimentally. However, calculating adsorption energies also requires some effort. This post is meant to cover the basics of how to calculate an adsorption energy using DFT.\n",
    "\n",
    "The adsorption energy is defined as the energy difference between the combined system and the separate systems:\n",
    "\n",
    "$E_{ads} = E_{surf+ads} - E_{surf} - E_{gas}$\n",
    "\n",
    "where $E_{surf+ads}$ is the combined system, $E_{surf}$ is the energy of the surface, and $E_{gas}$ is the energy of the molecule in the gas-phase. "
   ]
  },
  {
   "cell_type": "markdown",
   "metadata": {},
   "source": [
    "We'll start by just importing the library we use for manipulating atoms, the atomistic simulation environment (ASE), and calculating the energy of a gas molecule $E_{gas}$"
   ]
  },
  {
   "cell_type": "code",
   "execution_count": 1,
   "metadata": {},
   "outputs": [],
   "source": [
    "from ase.build import molecule\n",
    "\n",
    "gas = molecule('CO')"
   ]
  },
  {
   "cell_type": "markdown",
   "metadata": {},
   "source": [
    "This code just makes a CO molecule, lets visualize it next."
   ]
  },
  {
   "cell_type": "code",
   "execution_count": 2,
   "metadata": {},
   "outputs": [
    {
     "data": {
      "application/vnd.jupyter.widget-view+json": {
       "model_id": "4ec9552d5d9e4500afdef3d8c06cd601",
       "version_major": 2,
       "version_minor": 0
      },
      "text/plain": [
       "HBox(children=(NGLWidget(), VBox(children=(Dropdown(description='Show', options=('All', 'O', 'C'), value='All'…"
      ]
     },
     "metadata": {},
     "output_type": "display_data"
    }
   ],
   "source": [
    "from ase.visualize import view\n",
    "\n",
    "view(gas, viewer = 'ngl')"
   ]
  },
  {
   "cell_type": "markdown",
   "metadata": {},
   "source": [
    "To calculate the energy of this molecule, we're going to use the EMT calculator. EMT is a classical calculator (as opposed to quantum mechanical.) This code will give you the \"potential energy\" of the CO molecule"
   ]
  },
  {
   "cell_type": "code",
   "execution_count": 3,
   "metadata": {},
   "outputs": [
    {
     "data": {
      "text/plain": [
       "0.7862094936389532"
      ]
     },
     "execution_count": 3,
     "metadata": {},
     "output_type": "execute_result"
    }
   ],
   "source": [
    "from ase.calculators.emt import EMT\n",
    "\n",
    "gas.set_calculator(EMT())\n",
    "gas.get_potential_energy()"
   ]
  },
  {
   "cell_type": "markdown",
   "metadata": {},
   "source": [
    "Next we need to optimize the sctructure, because chances are it's not in its lowest energy configuration"
   ]
  },
  {
   "cell_type": "code",
   "execution_count": 4,
   "metadata": {},
   "outputs": [
    {
     "name": "stdout",
     "output_type": "stream",
     "text": [
      "                Step[ FC]     Time          Energy          fmax\n",
      "*Force-consistent energies used in optimization.\n",
      "BFGSLineSearch:    0[  0] 10:52:42        0.786209*       2.3049\n",
      "BFGSLineSearch:    1[  2] 10:52:42        0.672187*       0.3302\n",
      "BFGSLineSearch:    2[  3] 10:52:42        0.670368*       0.0714\n",
      "BFGSLineSearch:    3[  4] 10:52:42        0.670282*       0.0016\n"
     ]
    }
   ],
   "source": [
    "from ase.optimize import QuasiNewton\n",
    "\n",
    "dyn = QuasiNewton(gas)\n",
    "dyn.run(fmax=0.05)\n",
    "\n",
    "\n",
    "E_gas = gas.get_potential_energy()"
   ]
  },
  {
   "cell_type": "code",
   "execution_count": 5,
   "metadata": {},
   "outputs": [
    {
     "name": "stdout",
     "output_type": "stream",
     "text": [
      "                Step[ FC]     Time          Energy          fmax\n",
      "*Force-consistent energies used in optimization.\n",
      "BFGSLineSearch:    0[  0] 10:52:43        2.576181*       0.3811\n",
      "BFGSLineSearch:    1[  1] 10:52:43        2.506582*       0.2684\n",
      "BFGSLineSearch:    2[  2] 10:52:43        2.485247*       0.0649\n",
      "BFGSLineSearch:    3[  3] 10:52:43        2.480666*       0.0440\n"
     ]
    }
   ],
   "source": [
    "from ase.build import fcc111, add_adsorbate\n",
    "\n",
    "slab = fcc111('Pt', size = (2,2,4), vacuum = 10)\n",
    "view(slab, viewer = 'ngl')\n",
    "\n",
    "slab.set_calculator(EMT())\n",
    "dyn = QuasiNewton(slab)\n",
    "dyn.run(fmax=0.05)\n",
    "\n",
    "E_slab = slab.get_potential_energy()"
   ]
  },
  {
   "cell_type": "code",
   "execution_count": 6,
   "metadata": {},
   "outputs": [
    {
     "name": "stdout",
     "output_type": "stream",
     "text": [
      "                Step[ FC]     Time          Energy          fmax\n",
      "*Force-consistent energies used in optimization.\n",
      "BFGSLineSearch:    0[  0] 10:52:44        3.346721*       3.8864\n",
      "BFGSLineSearch:    1[  1] 10:52:44        2.976056*       2.4870\n",
      "BFGSLineSearch:    2[  2] 10:52:44        2.810946*       1.0161\n",
      "BFGSLineSearch:    3[  3] 10:52:44        2.692702*       0.5799\n",
      "BFGSLineSearch:    4[  4] 10:52:44        2.648115*       0.2611\n",
      "BFGSLineSearch:    5[  5] 10:52:44        2.625641*       0.1785\n",
      "BFGSLineSearch:    6[  6] 10:52:44        2.618584*       0.0506\n",
      "BFGSLineSearch:    7[  7] 10:52:44        2.617786*       0.0117\n"
     ]
    }
   ],
   "source": [
    "add_adsorbate(slab, gas, 2.3,'hcp')\n",
    "view(slab, viewer = 'ngl')\n",
    "\n",
    "slab.set_calculator(EMT())\n",
    "dyn = QuasiNewton(slab)\n",
    "dyn.run(fmax=0.05)\n",
    "\n",
    "E_slab_ads = slab.get_potential_energy()"
   ]
  },
  {
   "cell_type": "code",
   "execution_count": 7,
   "metadata": {},
   "outputs": [
    {
     "data": {
      "application/vnd.jupyter.widget-view+json": {
       "model_id": "d0f51016345e4082a6033bc4ac559027",
       "version_major": 2,
       "version_minor": 0
      },
      "text/plain": [
       "HBox(children=(NGLWidget(), VBox(children=(Dropdown(description='Show', options=('All', 'O', 'C', 'Pt'), value…"
      ]
     },
     "metadata": {},
     "output_type": "display_data"
    }
   ],
   "source": [
    "view(slab, viewer = 'ngl')"
   ]
  },
  {
   "cell_type": "code",
   "execution_count": 8,
   "metadata": {},
   "outputs": [
    {
     "name": "stdout",
     "output_type": "stream",
     "text": [
      "-0.5331615226207451\n"
     ]
    }
   ],
   "source": [
    "E_ads = E_slab_ads - E_slab - E_gas\n",
    "print(E_ads)"
   ]
  },
  {
   "cell_type": "code",
   "execution_count": null,
   "metadata": {},
   "outputs": [],
   "source": []
  }
 ],
 "metadata": {
  "kernelspec": {
   "display_name": "Python 3",
   "language": "python",
   "name": "python3"
  },
  "language_info": {
   "codemirror_mode": {
    "name": "ipython",
    "version": 3
   },
   "file_extension": ".py",
   "mimetype": "text/x-python",
   "name": "python",
   "nbconvert_exporter": "python",
   "pygments_lexer": "ipython3",
   "version": "3.7.2"
  }
 },
 "nbformat": 4,
 "nbformat_minor": 2
}
